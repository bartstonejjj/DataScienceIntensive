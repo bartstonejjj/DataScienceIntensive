{
 "cells": [
  {
   "cell_type": "markdown",
   "metadata": {},
   "source": [
    "# XML example and exercise\n",
    "****\n",
    "+ study examples of accessing nodes in XML tree structure  \n",
    "+ work on exercise to be completed and submitted\n",
    "****\n",
    "+ reference: https://docs.python.org/2.7/library/xml.etree.elementtree.html\n",
    "+ data source: http://www.dbis.informatik.uni-goettingen.de/Mondial\n",
    "****"
   ]
  },
  {
   "cell_type": "code",
   "execution_count": 10,
   "metadata": {
    "collapsed": true
   },
   "outputs": [],
   "source": [
    "from xml.etree import ElementTree as ET\n",
    "from pandas.io.json import json_normalize\n",
    "import numpy as np\n",
    "import pandas as pd"
   ]
  },
  {
   "cell_type": "markdown",
   "metadata": {},
   "source": [
    "## XML example\n",
    "\n",
    "+ for details about tree traversal and iterators, see https://docs.python.org/2.7/library/xml.etree.elementtree.html"
   ]
  },
  {
   "cell_type": "code",
   "execution_count": 11,
   "metadata": {
    "collapsed": true
   },
   "outputs": [],
   "source": [
    "document_tree = ET.parse( './data/mondial_database_less.xml' )"
   ]
  },
  {
   "cell_type": "code",
   "execution_count": 12,
   "metadata": {
    "collapsed": false
   },
   "outputs": [
    {
     "name": "stdout",
     "output_type": "stream",
     "text": [
      "Albania\n",
      "Greece\n",
      "Macedonia\n",
      "Serbia\n",
      "Montenegro\n",
      "Kosovo\n",
      "Andorra\n"
     ]
    }
   ],
   "source": [
    "# print names of all countries\n",
    "for child in document_tree.getroot():\n",
    "    print child.find('name').text"
   ]
  },
  {
   "cell_type": "code",
   "execution_count": 13,
   "metadata": {
    "collapsed": false
   },
   "outputs": [
    {
     "name": "stdout",
     "output_type": "stream",
     "text": [
      "* Albania: Tirana, Shkodër, Durrës, Vlorë, Elbasan, Korçë\n",
      "* Greece: Komotini, Kavala, Athina, Peiraias, Peristeri, Acharnes, Patra, Kozani, Kerkyra, Ioannina, Thessaloniki, Iraklio, Chania, Ermoupoli, Rhodes, Tripoli, Lamia, Chalkida, Larissa, Volos, Mytilini, Karyes\n",
      "* Macedonia: Skopje, Kumanovo\n",
      "* Serbia: Beograd, Novi Sad, Niš\n",
      "* Montenegro: Podgorica\n",
      "* Kosovo: Prishtine\n",
      "* Andorra: Andorra la Vella\n"
     ]
    }
   ],
   "source": [
    "# print names of all countries and their cities\n",
    "for element in document_tree.iterfind('country'):\n",
    "    print '* ' + element.find('name').text + ':',\n",
    "    capitals_string = ''\n",
    "    for subelement in element.getiterator('city'):\n",
    "        capitals_string += subelement.find('name').text + ', '\n",
    "    print capitals_string[:-2]"
   ]
  },
  {
   "cell_type": "markdown",
   "metadata": {},
   "source": [
    "****\n",
    "## XML exercise\n",
    "\n",
    "Using data in 'data/mondial_database.xml', the examples above, and refering to https://docs.python.org/2.7/library/xml.etree.elementtree.html, find\n",
    "\n",
    "1. 10 countries with the lowest infant mortality rates\n",
    "2. 10 cities with the largest population\n",
    "3. 10 ethnic groups with the largest overall populations (sum of best/latest estimates over all countries)\n",
    "4. name and country of a) longest river, b) largest lake and c) airport at highest elevation"
   ]
  },
  {
   "cell_type": "code",
   "execution_count": 14,
   "metadata": {
    "collapsed": false
   },
   "outputs": [],
   "source": [
    "document_tree = ET.parse( './data/mondial_database.xml' )"
   ]
  },
  {
   "cell_type": "code",
   "execution_count": 17,
   "metadata": {
    "collapsed": false
   },
   "outputs": [
    {
     "data": {
      "text/html": [
       "<div>\n",
       "<table border=\"1\" class=\"dataframe\">\n",
       "  <thead>\n",
       "    <tr style=\"text-align: right;\">\n",
       "      <th></th>\n",
       "      <th>country</th>\n",
       "      <th>infant_mortality</th>\n",
       "    </tr>\n",
       "  </thead>\n",
       "  <tbody>\n",
       "    <tr>\n",
       "      <th>38</th>\n",
       "      <td>Monaco</td>\n",
       "      <td>1.81</td>\n",
       "    </tr>\n",
       "    <tr>\n",
       "      <th>98</th>\n",
       "      <td>Japan</td>\n",
       "      <td>2.13</td>\n",
       "    </tr>\n",
       "    <tr>\n",
       "      <th>117</th>\n",
       "      <td>Bermuda</td>\n",
       "      <td>2.48</td>\n",
       "    </tr>\n",
       "    <tr>\n",
       "      <th>36</th>\n",
       "      <td>Norway</td>\n",
       "      <td>2.48</td>\n",
       "    </tr>\n",
       "    <tr>\n",
       "      <th>106</th>\n",
       "      <td>Singapore</td>\n",
       "      <td>2.53</td>\n",
       "    </tr>\n",
       "    <tr>\n",
       "      <th>37</th>\n",
       "      <td>Sweden</td>\n",
       "      <td>2.60</td>\n",
       "    </tr>\n",
       "    <tr>\n",
       "      <th>10</th>\n",
       "      <td>Czech Republic</td>\n",
       "      <td>2.63</td>\n",
       "    </tr>\n",
       "    <tr>\n",
       "      <th>78</th>\n",
       "      <td>Hong Kong</td>\n",
       "      <td>2.73</td>\n",
       "    </tr>\n",
       "    <tr>\n",
       "      <th>79</th>\n",
       "      <td>Macao</td>\n",
       "      <td>3.13</td>\n",
       "    </tr>\n",
       "    <tr>\n",
       "      <th>44</th>\n",
       "      <td>Iceland</td>\n",
       "      <td>3.15</td>\n",
       "    </tr>\n",
       "  </tbody>\n",
       "</table>\n",
       "</div>"
      ],
      "text/plain": [
       "            country  infant_mortality\n",
       "38           Monaco              1.81\n",
       "98            Japan              2.13\n",
       "117         Bermuda              2.48\n",
       "36           Norway              2.48\n",
       "106       Singapore              2.53\n",
       "37           Sweden              2.60\n",
       "10   Czech Republic              2.63\n",
       "78        Hong Kong              2.73\n",
       "79            Macao              3.13\n",
       "44          Iceland              3.15"
      ]
     },
     "execution_count": 17,
     "metadata": {},
     "output_type": "execute_result"
    }
   ],
   "source": [
    "# Create dataframe of all countries and their infant mortality rate, from xml file\n",
    "listt = []\n",
    "missing_IM = 999 #placeholder for missing population\n",
    "for element in document_tree.iterfind('country'):\n",
    "    result = {'country':'', 'infant_mortality':missing_IM }\n",
    "    result['country'] = element.find('name').text\n",
    "    for subelement in element.getiterator('infant_mortality'):\n",
    "        result['infant_mortality'] = float(subelement.text)\n",
    "    listt.append(result)\n",
    "df = pd.DataFrame(listt)\n",
    "\n",
    "# Remove those with missing infant mortality rate\n",
    "countries_infant_mortality = df[df.infant_mortality<>missing_IM]\n",
    "\n",
    "# Question 1: 10 countries with the lowest infant mortality rates\n",
    "countries_infant_mortality.sort_values(by=\"infant_mortality\").head(10)"
   ]
  },
  {
   "cell_type": "code",
   "execution_count": null,
   "metadata": {
    "collapsed": true
   },
   "outputs": [],
   "source": []
  },
  {
   "cell_type": "code",
   "execution_count": 23,
   "metadata": {
    "collapsed": false
   },
   "outputs": [
    {
     "data": {
      "text/html": [
       "<div>\n",
       "<table border=\"1\" class=\"dataframe\">\n",
       "  <thead>\n",
       "    <tr style=\"text-align: right;\">\n",
       "      <th></th>\n",
       "      <th>city</th>\n",
       "      <th>country</th>\n",
       "      <th>population</th>\n",
       "      <th>year</th>\n",
       "    </tr>\n",
       "  </thead>\n",
       "  <tbody>\n",
       "    <tr>\n",
       "      <th>1250</th>\n",
       "      <td>Shanghai</td>\n",
       "      <td>China</td>\n",
       "      <td>22315474</td>\n",
       "      <td>2010</td>\n",
       "    </tr>\n",
       "    <tr>\n",
       "      <th>707</th>\n",
       "      <td>Istanbul</td>\n",
       "      <td>Turkey</td>\n",
       "      <td>13710512</td>\n",
       "      <td>2012</td>\n",
       "    </tr>\n",
       "    <tr>\n",
       "      <th>1420</th>\n",
       "      <td>Mumbai</td>\n",
       "      <td>India</td>\n",
       "      <td>12442373</td>\n",
       "      <td>2011</td>\n",
       "    </tr>\n",
       "    <tr>\n",
       "      <th>443</th>\n",
       "      <td>Moskva</td>\n",
       "      <td>Russia</td>\n",
       "      <td>11979529</td>\n",
       "      <td>2013</td>\n",
       "    </tr>\n",
       "    <tr>\n",
       "      <th>1249</th>\n",
       "      <td>Beijing</td>\n",
       "      <td>China</td>\n",
       "      <td>11716620</td>\n",
       "      <td>2010</td>\n",
       "    </tr>\n",
       "    <tr>\n",
       "      <th>2592</th>\n",
       "      <td>São Paulo</td>\n",
       "      <td>Brazil</td>\n",
       "      <td>11152344</td>\n",
       "      <td>2010</td>\n",
       "    </tr>\n",
       "    <tr>\n",
       "      <th>1251</th>\n",
       "      <td>Tianjin</td>\n",
       "      <td>China</td>\n",
       "      <td>11090314</td>\n",
       "      <td>2010</td>\n",
       "    </tr>\n",
       "    <tr>\n",
       "      <th>974</th>\n",
       "      <td>Guangzhou</td>\n",
       "      <td>China</td>\n",
       "      <td>11071424</td>\n",
       "      <td>2010</td>\n",
       "    </tr>\n",
       "    <tr>\n",
       "      <th>1466</th>\n",
       "      <td>Delhi</td>\n",
       "      <td>India</td>\n",
       "      <td>11034555</td>\n",
       "      <td>2011</td>\n",
       "    </tr>\n",
       "    <tr>\n",
       "      <th>977</th>\n",
       "      <td>Shenzhen</td>\n",
       "      <td>China</td>\n",
       "      <td>10358381</td>\n",
       "      <td>2010</td>\n",
       "    </tr>\n",
       "  </tbody>\n",
       "</table>\n",
       "</div>"
      ],
      "text/plain": [
       "           city country  population  year\n",
       "1250   Shanghai   China    22315474  2010\n",
       "707    Istanbul  Turkey    13710512  2012\n",
       "1420     Mumbai   India    12442373  2011\n",
       "443      Moskva  Russia    11979529  2013\n",
       "1249    Beijing   China    11716620  2010\n",
       "2592  São Paulo  Brazil    11152344  2010\n",
       "1251    Tianjin   China    11090314  2010\n",
       "974   Guangzhou   China    11071424  2010\n",
       "1466      Delhi   India    11034555  2011\n",
       "977    Shenzhen   China    10358381  2010"
      ]
     },
     "execution_count": 23,
     "metadata": {},
     "output_type": "execute_result"
    }
   ],
   "source": [
    "# Create dataframe of all countries and their populations for each year, from xml file\n",
    "listt = []\n",
    "missing_population = 0 #placeholder for missing population\n",
    "for element in document_tree.iterfind('country'):\n",
    "    result = {'country':'', 'city':'', 'population':missing_population, 'year':missing_population }\n",
    "    result['country'] = element.find('name').text\n",
    "    for subelement in element.getiterator('city'):\n",
    "        result['city'] = subelement.find('name').text\n",
    "        for subsubelement in subelement.getiterator('population'):\n",
    "            result['population'] = int(subsubelement.text)\n",
    "            result['year'] = int(subsubelement.get('year'))\n",
    "            listt.append(result.copy())\n",
    "\n",
    "df = pd.DataFrame(listt)\n",
    "\n",
    "# Capture the city & population (with corresponding country) for only the LATEST year\n",
    "df1 = df.drop(['population'], axis=1).groupby(by=['country', 'city']).max()\n",
    "df1 = df1.reset_index()\n",
    "cities_population = df.merge(df1)\n",
    "\n",
    "# Question 2: 10 cities with the largest population\n",
    "cities_population.sort_values('population',ascending=0).head(10)"
   ]
  },
  {
   "cell_type": "code",
   "execution_count": null,
   "metadata": {
    "collapsed": true
   },
   "outputs": [],
   "source": []
  },
  {
   "cell_type": "code",
   "execution_count": 21,
   "metadata": {
    "collapsed": false
   },
   "outputs": [
    {
     "data": {
      "text/html": [
       "<div>\n",
       "<table border=\"1\" class=\"dataframe\">\n",
       "  <thead>\n",
       "    <tr style=\"text-align: right;\">\n",
       "      <th></th>\n",
       "      <th>ethnic_population</th>\n",
       "    </tr>\n",
       "    <tr>\n",
       "      <th>ethnicgroup</th>\n",
       "      <th></th>\n",
       "    </tr>\n",
       "  </thead>\n",
       "  <tbody>\n",
       "    <tr>\n",
       "      <th>Han Chinese</th>\n",
       "      <td>1.245059e+09</td>\n",
       "    </tr>\n",
       "    <tr>\n",
       "      <th>Indo-Aryan</th>\n",
       "      <td>8.718156e+08</td>\n",
       "    </tr>\n",
       "    <tr>\n",
       "      <th>European</th>\n",
       "      <td>4.948722e+08</td>\n",
       "    </tr>\n",
       "    <tr>\n",
       "      <th>African</th>\n",
       "      <td>3.183251e+08</td>\n",
       "    </tr>\n",
       "    <tr>\n",
       "      <th>Dravidian</th>\n",
       "      <td>3.027137e+08</td>\n",
       "    </tr>\n",
       "    <tr>\n",
       "      <th>Mestizo</th>\n",
       "      <td>1.577344e+08</td>\n",
       "    </tr>\n",
       "    <tr>\n",
       "      <th>Bengali</th>\n",
       "      <td>1.467769e+08</td>\n",
       "    </tr>\n",
       "    <tr>\n",
       "      <th>Russian</th>\n",
       "      <td>1.318570e+08</td>\n",
       "    </tr>\n",
       "    <tr>\n",
       "      <th>Japanese</th>\n",
       "      <td>1.265342e+08</td>\n",
       "    </tr>\n",
       "    <tr>\n",
       "      <th>Malay</th>\n",
       "      <td>1.219936e+08</td>\n",
       "    </tr>\n",
       "  </tbody>\n",
       "</table>\n",
       "</div>"
      ],
      "text/plain": [
       "             ethnic_population\n",
       "ethnicgroup                   \n",
       "Han Chinese       1.245059e+09\n",
       "Indo-Aryan        8.718156e+08\n",
       "European          4.948722e+08\n",
       "African           3.183251e+08\n",
       "Dravidian         3.027137e+08\n",
       "Mestizo           1.577344e+08\n",
       "Bengali           1.467769e+08\n",
       "Russian           1.318570e+08\n",
       "Japanese          1.265342e+08\n",
       "Malay             1.219936e+08"
      ]
     },
     "execution_count": 21,
     "metadata": {},
     "output_type": "execute_result"
    }
   ],
   "source": [
    "# Create dataframes for: a) all countries and populations for each year, \n",
    "# b) all countries, ethnicgroups, and percentage,   from xml file\n",
    "country_list = []\n",
    "ethnic_list = []\n",
    "missing_population = 0 #placeholder for missing population\n",
    "for element in document_tree.iterfind('country'):\n",
    "    country_data = {'country':'', 'population':missing_population, 'year':missing_population,  }\n",
    "    country_data['country'] = element.find('name').text\n",
    "    ethnic_data = {'country':'', 'ethnicgroup':'', 'percentage':0}\n",
    "    ethnic_data['country'] = element.find('name').text\n",
    "    for subelement in element.findall('population'):\n",
    "        country_data['population'] = int(subelement.text)\n",
    "        country_data['year'] = int(subelement.get('year'))\n",
    "        country_list.append(country_data.copy())\n",
    "    for subelement in element.getiterator('ethnicgroup'):\n",
    "        ethnic_data['ethnicgroup'] = subelement.text\n",
    "        ethnic_data['percentage'] = float(subelement.get('percentage'))\n",
    "        ethnic_list.append(ethnic_data.copy())\n",
    "\n",
    "# Capture the country & population for the LATEST year\n",
    "df1 = pd.DataFrame(country_list)\n",
    "df2 = df1.drop(['population'], axis=1).groupby(by='country').max()\n",
    "df2 = df2.reset_index()\n",
    "countries_population = df1.merge(df2)\n",
    "countries_population\n",
    "\n",
    "# Ethnic groups by percentage of country\n",
    "ethnic_percentage = pd.DataFrame(ethnic_list)\n",
    "ethnic_percentage\n",
    "\n",
    "# Merge data into one (big) table and create (calculate) population for ethnic groups\n",
    "df = countries_population.merge(ethnic_percentage)\n",
    "df['ethnic_population'] = pd.to_numeric((df.population*df.percentage)/100)\n",
    "\n",
    "# Aggregate ethnic group populations by country\n",
    "df3 = df[['ethnicgroup','ethnic_population']]\n",
    "\n",
    "# Question 3: 10 ethnic groups with the largest overall populations (sum of best/latest estimates over all countries)\n",
    "df3.groupby('ethnicgroup').sum().sort_values('ethnic_population',ascending=0).head(10)"
   ]
  },
  {
   "cell_type": "code",
   "execution_count": null,
   "metadata": {
    "collapsed": true
   },
   "outputs": [],
   "source": []
  },
  {
   "cell_type": "code",
   "execution_count": 22,
   "metadata": {
    "collapsed": false
   },
   "outputs": [
    {
     "name": "stdout",
     "output_type": "stream",
     "text": [
      "The longest river is: Amazonas, located in countries: Colombia, Brazil, Peru\n",
      "The largest lake is: Caspian Sea, located in countries: Russia, Azerbaijan, Kazakhstan, Iran, Turkmenistan\n",
      "The airport at highest elevation is: El Alto Intl, located in countries: Bolivia\n"
     ]
    }
   ],
   "source": [
    "# Create dataframes for: a) all countries and car_codes, \n",
    "# b) all rivers, c) all lakes, d) all airports   from xml file\n",
    "country_list = []\n",
    "river_list = []\n",
    "lake_list = []\n",
    "airport_list = []\n",
    "missing_number = 0 #placeholder to denote missing numbers (length, area, elevation)\n",
    "for element in document_tree.iterfind('country'):\n",
    "    country_data = {'country':'', 'car_code':''}\n",
    "    country_data['country'] = element.find('name').text\n",
    "    country_data['car_code'] = element.get('car_code')\n",
    "    country_list.append(country_data.copy())\n",
    "    \n",
    "for element in document_tree.iterfind('river'):\n",
    "    river_data = {'name':'', 'car_code':'', 'length':0}\n",
    "    river_data['name'] = element.find('name').text\n",
    "    river_data['car_code'] = element.get('country')\n",
    "    length = element.find('length')\n",
    "    if length<>None: # Only add rivers that actually have a length\n",
    "        if length.text<>None:\n",
    "            river_data['length'] = float(length.text)\n",
    "            river_list.append(river_data.copy())\n",
    "    \n",
    "for element in document_tree.iterfind('lake'):\n",
    "    lake_data = {'name':'', 'car_code':'', 'area':0}\n",
    "    lake_data['name'] = element.find('name').text\n",
    "    lake_data['car_code'] = element.get('country')\n",
    "    area = element.find('area')\n",
    "    if area<>None: # Only add lakes that actually have an area\n",
    "        if area.text<>None:\n",
    "            lake_data['area'] = float(area.text)\n",
    "            lake_list.append(lake_data.copy())\n",
    "    \n",
    "for element in document_tree.iterfind('airport'):\n",
    "    airport_data = {'name':'', 'car_code':'', 'elevation':0}\n",
    "    airport_data['name'] = element.find('name').text\n",
    "    airport_data['car_code'] = element.get('country')\n",
    "    elevation = element.find('elevation')\n",
    "    if elevation.text<>None: # Only add airports that actually have an elevation\n",
    "        if elevation.text<>None:\n",
    "            airport_data['elevation'] = float(elevation.text)\n",
    "            airport_list.append(airport_data.copy())\n",
    "\n",
    "# countries and car_codes\n",
    "df = pd.DataFrame(country_list)\n",
    "            \n",
    "# largest river\n",
    "df1 = pd.DataFrame(river_list)\n",
    "df1 = df1.sort_values(by='length').tail(1)\n",
    "df1 = df1.reset_index('index',drop=1)\n",
    "df1b = pd.DataFrame(df1.loc[0].car_code.split(\" \"), columns=[\"car_code\"])\n",
    "df1b = df1b.merge(df)\n",
    "\n",
    "# biggest lake\n",
    "df2 = pd.DataFrame(lake_list)\n",
    "df2 = df2.sort_values(by='area').tail(1)\n",
    "df2 = df2.reset_index('index',drop=1)\n",
    "df2b = pd.DataFrame(df2.loc[0].car_code.split(\" \"), columns=[\"car_code\"])\n",
    "df2b = df2b.merge(df)\n",
    "\n",
    "# airport at highest elevation\n",
    "df3 = pd.DataFrame(airport_list)\n",
    "df3 = df3.sort_values(by='elevation').tail(1)\n",
    "df3 = df3.reset_index('index',drop=1)\n",
    "df3b = pd.DataFrame(df3.loc[0].car_code.split(\" \"), columns=[\"car_code\"])\n",
    "df3b = df3b.merge(df)\n",
    "\n",
    "# Question 4: name and country of a) longest river, b) largest lake and c) airport at highest elevation\n",
    "print \"The longest river is: \"+str(df1.loc[0]['name'])+\", located in countries: \"+', '.join(df1b['country'])\n",
    "print \"The largest lake is: \"+str(df2.loc[0]['name'])+\", located in countries: \"+', '.join(df2b['country'])\n",
    "print \"The airport at highest elevation is: \"+str(df3.loc[0]['name'])+\", located in countries: \"+', '.join(df3b['country'])"
   ]
  },
  {
   "cell_type": "code",
   "execution_count": null,
   "metadata": {
    "collapsed": false
   },
   "outputs": [],
   "source": []
  },
  {
   "cell_type": "code",
   "execution_count": null,
   "metadata": {
    "collapsed": true
   },
   "outputs": [],
   "source": []
  },
  {
   "cell_type": "code",
   "execution_count": null,
   "metadata": {
    "collapsed": true
   },
   "outputs": [],
   "source": []
  },
  {
   "cell_type": "code",
   "execution_count": null,
   "metadata": {
    "collapsed": true
   },
   "outputs": [],
   "source": []
  },
  {
   "cell_type": "code",
   "execution_count": null,
   "metadata": {
    "collapsed": true
   },
   "outputs": [],
   "source": []
  },
  {
   "cell_type": "code",
   "execution_count": null,
   "metadata": {
    "collapsed": false
   },
   "outputs": [],
   "source": []
  }
 ],
 "metadata": {
  "kernelspec": {
   "display_name": "Python 2",
   "language": "python",
   "name": "python2"
  },
  "language_info": {
   "codemirror_mode": {
    "name": "ipython",
    "version": 2
   },
   "file_extension": ".py",
   "mimetype": "text/x-python",
   "name": "python",
   "nbconvert_exporter": "python",
   "pygments_lexer": "ipython2",
   "version": "2.7.11"
  }
 },
 "nbformat": 4,
 "nbformat_minor": 0
}
