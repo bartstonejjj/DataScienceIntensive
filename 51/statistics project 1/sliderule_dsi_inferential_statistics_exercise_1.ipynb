{
 "cells": [
  {
   "cell_type": "markdown",
   "metadata": {},
   "source": [
    "## What is the true normal human body temperature? \n",
    "\n",
    "#### Background\n",
    "\n",
    "The mean normal body temperature was held to be 37$^{\\circ}$C or 98.6$^{\\circ}$F for more than 120 years since it was first conceptualized and reported by Carl Wunderlich in a famous 1868 book. In 1992, this value was revised to 36.8$^{\\circ}$C or 98.2$^{\\circ}$F. \n",
    "\n",
    "#### Exercise\n",
    "In this exercise, you will analyze a dataset of human body temperatures and employ the concepts of hypothesis testing, confidence intervals, and statistical significance.\n",
    "\n",
    "Answer the following questions **in this notebook below and submit to your Github account**. \n",
    "\n",
    "1.  Is the distribution of body temperatures normal? \n",
    "    - Remember that this is a condition for the CLT, and hence the statistical tests we are using, to apply. \n",
    "2.  Is the true population mean really 98.6 degrees F?\n",
    "    - Bring out the one sample hypothesis test! In this situation, is it approriate to apply a z-test or a t-test? How will the result be different?\n",
    "3.  At what temperature should we consider someone's temperature to be \"abnormal\"?\n",
    "    - Start by computing the margin of error and confidence interval.\n",
    "4.  Is there a significant difference between males and females in normal temperature?\n",
    "    - Set up and solve for a two sample hypothesis testing.\n",
    "\n",
    "You can include written notes in notebook cells using Markdown: \n",
    "   - In the control panel at the top, choose Cell > Cell Type > Markdown\n",
    "   - Markdown syntax: http://nestacms.com/docs/creating-content/markdown-cheat-sheet\n",
    "\n",
    "#### Resources\n",
    "\n",
    "+ Information and data sources: http://www.amstat.org/publications/jse/datasets/normtemp.txt, http://www.amstat.org/publications/jse/jse_data_archive.htm\n",
    "+ Markdown syntax: http://nestacms.com/docs/creating-content/markdown-cheat-sheet\n",
    "\n",
    "****"
   ]
  },
  {
   "cell_type": "code",
   "execution_count": 28,
   "metadata": {
    "collapsed": true
   },
   "outputs": [],
   "source": [
    "import pandas as pd\n",
    "import math\n",
    "import scipy.stats as st"
   ]
  },
  {
   "cell_type": "code",
   "execution_count": 3,
   "metadata": {
    "collapsed": false
   },
   "outputs": [],
   "source": [
    "df = pd.read_csv('data/human_body_temperature.csv')"
   ]
  },
  {
   "cell_type": "code",
   "execution_count": 10,
   "metadata": {
    "collapsed": false
   },
   "outputs": [],
   "source": [
    "%matplotlib inline"
   ]
  },
  {
   "cell_type": "code",
   "execution_count": 16,
   "metadata": {
    "collapsed": false
   },
   "outputs": [
    {
     "data": {
      "text/plain": [
       "<matplotlib.axes._subplots.AxesSubplot at 0x11a260350>"
      ]
     },
     "execution_count": 16,
     "metadata": {},
     "output_type": "execute_result"
    },
    {
     "data": {
      "image/png": "[encoded data removed]",
      "text/plain": [
       "<matplotlib.figure.Figure at 0x11a46a510>"
      ]
     },
     "metadata": {},
     "output_type": "display_data"
    }
   ],
   "source": [
    "temps = df.temperature\n",
    "temps.hist()"
   ]
  },
  {
   "cell_type": "markdown",
   "metadata": {},
   "source": [
    "**1 - Is the distribution of body temperatures normal?**\n",
    "\n",
    "Answer: From the above histogram, we can say that yes the distribution of body temperatures is approximately normal"
   ]
  },
  {
   "cell_type": "code",
   "execution_count": null,
   "metadata": {
    "collapsed": true
   },
   "outputs": [],
   "source": []
  },
  {
   "cell_type": "code",
   "execution_count": 30,
   "metadata": {
    "collapsed": false
   },
   "outputs": [
    {
     "data": {
      "text/plain": [
       "count    130.000000\n",
       "mean      98.249231\n",
       "std        0.733183\n",
       "min       96.300000\n",
       "25%       97.800000\n",
       "50%       98.300000\n",
       "75%       98.700000\n",
       "max      100.800000\n",
       "Name: temperature, dtype: float64"
      ]
     },
     "execution_count": 30,
     "metadata": {},
     "output_type": "execute_result"
    }
   ],
   "source": [
    "temps.describe()"
   ]
  },
  {
   "cell_type": "code",
   "execution_count": 43,
   "metadata": {
    "collapsed": false
   },
   "outputs": [
    {
     "data": {
      "text/plain": [
       "2.4510785070566898e-08"
      ]
     },
     "execution_count": 43,
     "metadata": {},
     "output_type": "execute_result"
    }
   ],
   "source": [
    "# Let the null hypothesis, H0 be that the true population mean, mew = 98.6 degrees F. Assume H0 is true...\n",
    "mew = 98.6\n",
    "\n",
    "# Find the sample standard deviation, s\n",
    "s = temps.std()\n",
    "\n",
    "# Find the standard deviation of the sample mean, omega_x_bar\n",
    "omega_x_bar = s/math.sqrt(temps.count())\n",
    "\n",
    "# Calculate Z score for sample mean, where population mean is mew (above)\n",
    "z = (temps.mean() - mew)/omega_x_bar\n",
    "\n",
    "# p-value based on z score is:\n",
    "st.norm.sf(abs(z))"
   ]
  },
  {
   "cell_type": "markdown",
   "metadata": {},
   "source": [
    "**2a - Is the true population mean really 98.6 degrees F?**\n",
    "\n",
    "Answer: No, its very unlikely. We can reject the null hypothesis (above) as the chances of getting this mean from this sample of the population (temps.mean()) if the population mean = 98.6 is very low, << 1%.\n",
    "\n",
    "\n",
    "**2b - In this situation, is it approriate to apply a z-test or a t-test?**\n",
    "\n",
    "Answer: Given the sample size is large, > 30 it is appropriate to use z statistics. To calculate z statistics we need to know the standard deviation of the sample mean (denoted omega_x_bar above). From the Central Limit Theorem, omega_x_bar can be estimated to be s/sqrt(n) provided sample size, n is large (> 30 as rule of thumb)"
   ]
  },
  {
   "cell_type": "code",
   "execution_count": 49,
   "metadata": {
    "collapsed": false
   },
   "outputs": [
    {
     "data": {
      "text/plain": [
       "1.2053160207804971e-07"
      ]
     },
     "execution_count": 49,
     "metadata": {},
     "output_type": "execute_result"
    }
   ],
   "source": [
    "# p-value of t statistic:\n",
    "st.t.sf(pd.np.abs(z), temps.count()-1)"
   ]
  },
  {
   "cell_type": "markdown",
   "metadata": {},
   "source": [
    "**2c - How will the result be different?**\n",
    "\n",
    "Answer: As seen above, the p-value is larger however as n increases, the p-value will become smaller"
   ]
  },
  {
   "cell_type": "code",
   "execution_count": null,
   "metadata": {
    "collapsed": true
   },
   "outputs": [],
   "source": []
  },
  {
   "cell_type": "code",
   "execution_count": 71,
   "metadata": {
    "collapsed": false
   },
   "outputs": [
    {
     "data": {
      "text/plain": [
       "1.959963984540054"
      ]
     },
     "execution_count": 71,
     "metadata": {},
     "output_type": "execute_result"
    }
   ],
   "source": [
    "# Start by computing the margin of error and confidence interval.\n",
    "\n",
    "# Enter confidence level as a %\n",
    "conf_lev = 95.0 # If we sssume abnormal temperatures are in the top 2.5% or bottom 2.5%\n",
    "\n",
    "# Calculate the critical probability (e.g 95% conf interval as crit_prob = 0.975)\n",
    "crit_prob = (50 + conf_lev/2)/100\n",
    "\n",
    "# Calculate the z value (critial value) would need to between 0 +/- answer-below to be not abnormal\n",
    "z_value = st.norm.ppf(crit_prob)\n",
    "z_value"
   ]
  },
  {
   "cell_type": "code",
   "execution_count": 72,
   "metadata": {
    "collapsed": false
   },
   "outputs": [
    {
     "data": {
      "text/plain": [
       "0.1260343410491174"
      ]
     },
     "execution_count": 72,
     "metadata": {},
     "output_type": "execute_result"
    }
   ],
   "source": [
    "# Calculate the margin of error\n",
    "margin_of_err = z_value * omega_x_bar\n",
    "margin_of_err"
   ]
  },
  {
   "cell_type": "code",
   "execution_count": 74,
   "metadata": {
    "collapsed": false
   },
   "outputs": [
    {
     "data": {
      "text/plain": [
       "(98.123196428181657, 98.375265110279898)"
      ]
     },
     "execution_count": 74,
     "metadata": {},
     "output_type": "execute_result"
    }
   ],
   "source": [
    "# Calculate the lower and upper bounds of the confidence interval\n",
    "lower, upper = -margin_of_err + temps.mean(), margin_of_err + temps.mean()\n",
    "lower, upper"
   ]
  },
  {
   "cell_type": "markdown",
   "metadata": {},
   "source": [
    "**3 - At what temperature should we consider someone's temperature to be \"abnormal\"?**\n",
    "\n",
    "Answer: We are 95% confident that temperatures will fall between 98.12 and 98.37 degrees F. Should it fall outside of this range then perhaps we can consider someone's temperature to be \"abnormal\"."
   ]
  },
  {
   "cell_type": "code",
   "execution_count": null,
   "metadata": {
    "collapsed": true
   },
   "outputs": [],
   "source": []
  },
  {
   "cell_type": "code",
   "execution_count": 83,
   "metadata": {
    "collapsed": false
   },
   "outputs": [],
   "source": [
    "# Split the sample into two samples, female temps 'fem' and male temps 'mal'\n",
    "fem, mal = df[df.gender=='F'].temperature, df[df.gender=='M'].temperature"
   ]
  },
  {
   "cell_type": "code",
   "execution_count": 86,
   "metadata": {
    "collapsed": false
   },
   "outputs": [
    {
     "data": {
      "text/plain": [
       "0.01114368038033863"
      ]
     },
     "execution_count": 86,
     "metadata": {},
     "output_type": "execute_result"
    }
   ],
   "source": [
    "# Set up and solve for a two sample hypothesis testing.\n",
    "\n",
    "# Let the null hypothesis, H0 be that there is no difference between samples fem and mal,\n",
    "# hence their population means are the same: mew_fem = mew_mal OR mew-fem - mew_mal = 0\n",
    "\n",
    "# Find the standard deviation of the sample mean of: mew_fem - mew_mal, omega_diff_bar\n",
    "omega_diff_bar = math.sqrt(fem.var()/fem.count()+mal.var()/mal.count())\n",
    "\n",
    "# Calculate Z score for difference of sample means under the null hypothesis, ie mew-fem - mew_mal = 0\n",
    "z = (fem.mean()-mal.mean() - 0)/omega_diff_bar\n",
    "\n",
    "# p-value based on z score is:\n",
    "st.norm.sf(abs(z))"
   ]
  },
  {
   "cell_type": "markdown",
   "metadata": {},
   "source": [
    "**4 - Is there a significant difference between males and females in normal temperature?**\n",
    "\n",
    "Answer: Depending on ones definition of the word 'significant', many would say yes. Based on Allen Powey's definition this p-value of 1.1% is borderline (1% <= p < 10%), ie we cannot reject the null hypothesis as say the difference is probably not due to chance, nor can we say this difference is plausible due to chance.\n",
    "\n",
    "We could probably look at other more important factors like effect size to investigate further."
   ]
  }
 ],
 "metadata": {
  "kernelspec": {
   "display_name": "Python 2",
   "language": "python",
   "name": "python2"
  },
  "language_info": {
   "codemirror_mode": {
    "name": "ipython",
    "version": 2
   },
   "file_extension": ".py",
   "mimetype": "text/x-python",
   "name": "python",
   "nbconvert_exporter": "python",
   "pygments_lexer": "ipython2",
   "version": "2.7.11"
  }
 },
 "nbformat": 4,
 "nbformat_minor": 0
}
