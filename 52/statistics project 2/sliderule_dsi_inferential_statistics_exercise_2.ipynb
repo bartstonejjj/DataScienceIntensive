{
 "cells": [
  {
   "cell_type": "markdown",
   "metadata": {},
   "source": [
    "\n",
    "### Examining racial discrimination in the US job market\n",
    "\n",
    "#### Background\n",
    "Racial discrimination continues to be pervasive in cultures throughout the world. Researchers examined the level of racial discrimination in the United States labor market by randomly assigning identical résumés black-sounding or white-sounding names and observing the impact on requests for interviews from employers.\n",
    "\n",
    "#### Data\n",
    "In the dataset provided, each row represents a resume. The 'race' column has two values, 'b' and 'w', indicating black-sounding and white-sounding. The column 'call' has two values, 1 and 0, indicating whether the resume received a call from employers or not.\n",
    "\n",
    "Note that the 'b' and 'w' values in race are assigned randomly to the resumes.\n",
    "\n",
    "#### Exercise\n",
    "You will perform a statistical analysis to establish whether race has a significant impact on the rate of callbacks for resumes.\n",
    "\n",
    "Answer the following questions **in this notebook below and submit to your Github account**. \n",
    "\n",
    "   1. What test is appropriate for this problem? Does CLT apply?\n",
    "   2. What are the null and alternate hypotheses?\n",
    "   3. Compute margin of error, confidence interval, and p-value.\n",
    "   4. Discuss statistical significance.\n",
    "\n",
    "You can include written notes in notebook cells using Markdown: \n",
    "   - In the control panel at the top, choose Cell > Cell Type > Markdown\n",
    "   - Markdown syntax: http://nestacms.com/docs/creating-content/markdown-cheat-sheet\n",
    "\n",
    "\n",
    "#### Resources\n",
    "+ Experiment information and data source: http://www.povertyactionlab.org/evaluation/discrimination-job-market-united-states\n",
    "+ Scipy statistical methods: http://docs.scipy.org/doc/scipy/reference/stats.html \n",
    "+ Markdown syntax: http://nestacms.com/docs/creating-content/markdown-cheat-sheet\n",
    "\n",
    "****"
   ]
  },
  {
   "cell_type": "code",
   "execution_count": 67,
   "metadata": {
    "collapsed": true
   },
   "outputs": [],
   "source": [
    "%matplotlib inline\n",
    "import math\n",
    "import pandas as pd\n",
    "import numpy as np\n",
    "from scipy import stats as st"
   ]
  },
  {
   "cell_type": "code",
   "execution_count": 52,
   "metadata": {
    "collapsed": false
   },
   "outputs": [],
   "source": [
    "# Read in us job market data\n",
    "data = pd.io.stata.read_stata('data/us_job_market_discrimination.dta')\n",
    "\n",
    "# Create sample-polulation-list of black-sounding-names calls and list of \n",
    "# sample-population-list white-sounding-names calls\n",
    "df = data[['race','call']]\n",
    "black = df[df.race=='b']['call']\n",
    "white = df[df.race=='w']['call']"
   ]
  },
  {
   "cell_type": "markdown",
   "metadata": {
    "collapsed": true
   },
   "source": [
    "**1 - What test is appropriate for this problem? Does CLT apply?**\n",
    "\n",
    "Answer: Hypothesis test comparing population proportions. Yes in the same way as described previously."
   ]
  },
  {
   "cell_type": "markdown",
   "metadata": {},
   "source": [
    "**2 - What are the null and alternate hypotheses?**\n",
    "\n",
    "Let p1 = proportion of black-sounding-name-people who get a call out of that population\n",
    "\n",
    "Let p2 = proportion of white-sounding-name-people who get a call out of that population\n",
    "\n",
    "The null hypthosis, H0 is that there is no difference in the sample means of the two populations, ie p1-p2=0"
   ]
  },
  {
   "cell_type": "code",
   "execution_count": 50,
   "metadata": {
    "collapsed": false
   },
   "outputs": [
    {
     "data": {
      "text/plain": [
       "(0.06447638603696099, 0.09650924024640657)"
      ]
     },
     "execution_count": 50,
     "metadata": {},
     "output_type": "execute_result"
    }
   ],
   "source": [
    "# Calculate p1 and p2\n",
    "p1 = float(sum(black==1))/float(len(black))\n",
    "p2 = float(sum(white==1))/float(len(white))\n",
    "p1, p2"
   ]
  },
  {
   "cell_type": "code",
   "execution_count": 56,
   "metadata": {
    "collapsed": false
   },
   "outputs": [
    {
     "data": {
      "text/plain": [
       "1.959963984540054"
      ]
     },
     "execution_count": 56,
     "metadata": {},
     "output_type": "execute_result"
    }
   ],
   "source": [
    "# Enter confidence level as a %\n",
    "conf_lev = 95.0 # If we asssume abnormal temperatures are in the top 2.5% or bottom 2.5%\n",
    "\n",
    "# Calculate the critical probability (e.g 95% conf interval as crit_prob = 0.975)\n",
    "crit_prob = (50 + conf_lev/2)/100\n",
    "\n",
    "# Calculate the z value (critial value) would need to between 0 +/- answer-below to be not abnormal\n",
    "z_value = st.norm.ppf(crit_prob)\n",
    "z_value"
   ]
  },
  {
   "cell_type": "code",
   "execution_count": 78,
   "metadata": {
    "collapsed": false
   },
   "outputs": [
    {
     "data": {
      "text/plain": [
       "3.1204310805128342e-09"
      ]
     },
     "execution_count": 78,
     "metadata": {},
     "output_type": "execute_result"
    }
   ],
   "source": [
    "# If we assume the null hypothesis then p1 = p2 = p, where p can be considered\n",
    "# the proportion of p1 and p2 combined (ie put p1 and p2 are the same) so we we take\n",
    "# p as the proportion of calls from the whole population. Calculate p\n",
    "p = sum(data.call)/len(data)\n",
    "\n",
    "# Calculate the standard deviation of the difference of p1_hat and p2_hat.\n",
    "# (the formula below is used given p = p1 = p2)\n",
    "omega = math.sqrt(2*p*(1-p)/len(data))\n",
    "omega\n",
    "\n",
    "# Calculate Z score for under the null hypothesis\n",
    "z = (p1-p2 - 0)/omega\n",
    "\n",
    "# p-value based on z score is:\n",
    "st.norm.sf(abs(z))"
   ]
  },
  {
   "cell_type": "code",
   "execution_count": 81,
   "metadata": {
    "collapsed": false
   },
   "outputs": [
    {
     "data": {
      "text/plain": [
       "0.010805745262777831"
      ]
     },
     "execution_count": 81,
     "metadata": {},
     "output_type": "execute_result"
    }
   ],
   "source": [
    "# Calculate the margin of error\n",
    "margin_of_err = z_value * omega\n",
    "margin_of_err"
   ]
  },
  {
   "cell_type": "code",
   "execution_count": 83,
   "metadata": {
    "collapsed": false
   },
   "outputs": [
    {
     "data": {
      "text/plain": [
       "(-0.042838599472223418, -0.021227108946667753)"
      ]
     },
     "execution_count": 83,
     "metadata": {},
     "output_type": "execute_result"
    }
   ],
   "source": [
    "# Calculate the lower and upper bounds of the confidence interval\n",
    "lower, upper = -margin_of_err + p1-p2, margin_of_err + p1-p2\n",
    "lower, upper"
   ]
  },
  {
   "cell_type": "markdown",
   "metadata": {},
   "source": [
    "**3 - Compute margin of error, confidence interval, and p-value.**\n",
    "\n",
    "Answer - see previous 3 cells."
   ]
  },
  {
   "cell_type": "markdown",
   "metadata": {},
   "source": [
    "**4 - Discuss statistical significance.**\n",
    "\n",
    "Based on the above, we can reject the null hypothesis and say that yes, there is an effect between white sounding names receiving more calls compared with white sounding names as p-value is < 1%. It is very unlikely there would be this difference in sample proportions between black and white if there is no effect."
   ]
  }
 ],
 "metadata": {
  "kernelspec": {
   "display_name": "Python 2",
   "language": "python",
   "name": "python2"
  },
  "language_info": {
   "codemirror_mode": {
    "name": "ipython",
    "version": 2
   },
   "file_extension": ".py",
   "mimetype": "text/x-python",
   "name": "python",
   "nbconvert_exporter": "python",
   "pygments_lexer": "ipython2",
   "version": "2.7.11"
  }
 },
 "nbformat": 4,
 "nbformat_minor": 0
}
