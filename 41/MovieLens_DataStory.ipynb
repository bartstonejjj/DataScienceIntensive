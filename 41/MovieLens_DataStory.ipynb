{
 "cells": [
  {
   "cell_type": "code",
   "execution_count": 1,
   "metadata": {
    "collapsed": true
   },
   "outputs": [],
   "source": [
    "%matplotlib inline\n",
    "import pandas as pd"
   ]
  },
  {
   "cell_type": "code",
   "execution_count": 2,
   "metadata": {
    "collapsed": false
   },
   "outputs": [],
   "source": [
    "# Read in Movies (m) and Ratings (r) from MovieLens Data\n",
    "m = pd.read_csv('Data/MovieLens/ml-20m/movies.csv').head(100000)\n",
    "r = pd.read_csv('Data/MovieLens/ml-20m/ratings.csv').head(100000)"
   ]
  },
  {
   "cell_type": "code",
   "execution_count": 3,
   "metadata": {
    "collapsed": false
   },
   "outputs": [
    {
     "data": {
      "text/html": [
       "<div>\n",
       "<table border=\"1\" class=\"dataframe\">\n",
       "  <thead>\n",
       "    <tr style=\"text-align: right;\">\n",
       "      <th></th>\n",
       "      <th>movieId</th>\n",
       "      <th>title</th>\n",
       "      <th>genres</th>\n",
       "    </tr>\n",
       "  </thead>\n",
       "  <tbody>\n",
       "    <tr>\n",
       "      <th>0</th>\n",
       "      <td>1</td>\n",
       "      <td>Toy Story (1995)</td>\n",
       "      <td>Adventure|Animation|Children|Comedy|Fantasy</td>\n",
       "    </tr>\n",
       "    <tr>\n",
       "      <th>1</th>\n",
       "      <td>2</td>\n",
       "      <td>Jumanji (1995)</td>\n",
       "      <td>Adventure|Children|Fantasy</td>\n",
       "    </tr>\n",
       "    <tr>\n",
       "      <th>2</th>\n",
       "      <td>3</td>\n",
       "      <td>Grumpier Old Men (1995)</td>\n",
       "      <td>Comedy|Romance</td>\n",
       "    </tr>\n",
       "    <tr>\n",
       "      <th>3</th>\n",
       "      <td>4</td>\n",
       "      <td>Waiting to Exhale (1995)</td>\n",
       "      <td>Comedy|Drama|Romance</td>\n",
       "    </tr>\n",
       "    <tr>\n",
       "      <th>4</th>\n",
       "      <td>5</td>\n",
       "      <td>Father of the Bride Part II (1995)</td>\n",
       "      <td>Comedy</td>\n",
       "    </tr>\n",
       "  </tbody>\n",
       "</table>\n",
       "</div>"
      ],
      "text/plain": [
       "   movieId                               title  \\\n",
       "0        1                    Toy Story (1995)   \n",
       "1        2                      Jumanji (1995)   \n",
       "2        3             Grumpier Old Men (1995)   \n",
       "3        4            Waiting to Exhale (1995)   \n",
       "4        5  Father of the Bride Part II (1995)   \n",
       "\n",
       "                                        genres  \n",
       "0  Adventure|Animation|Children|Comedy|Fantasy  \n",
       "1                   Adventure|Children|Fantasy  \n",
       "2                               Comedy|Romance  \n",
       "3                         Comedy|Drama|Romance  \n",
       "4                                       Comedy  "
      ]
     },
     "execution_count": 3,
     "metadata": {},
     "output_type": "execute_result"
    }
   ],
   "source": [
    "m.head()"
   ]
  },
  {
   "cell_type": "code",
   "execution_count": 4,
   "metadata": {
    "collapsed": false
   },
   "outputs": [
    {
     "data": {
      "text/html": [
       "<div>\n",
       "<table border=\"1\" class=\"dataframe\">\n",
       "  <thead>\n",
       "    <tr style=\"text-align: right;\">\n",
       "      <th></th>\n",
       "      <th>userId</th>\n",
       "      <th>movieId</th>\n",
       "      <th>rating</th>\n",
       "      <th>timestamp</th>\n",
       "    </tr>\n",
       "  </thead>\n",
       "  <tbody>\n",
       "    <tr>\n",
       "      <th>0</th>\n",
       "      <td>1</td>\n",
       "      <td>2</td>\n",
       "      <td>3.5</td>\n",
       "      <td>1112486027</td>\n",
       "    </tr>\n",
       "    <tr>\n",
       "      <th>1</th>\n",
       "      <td>1</td>\n",
       "      <td>29</td>\n",
       "      <td>3.5</td>\n",
       "      <td>1112484676</td>\n",
       "    </tr>\n",
       "    <tr>\n",
       "      <th>2</th>\n",
       "      <td>1</td>\n",
       "      <td>32</td>\n",
       "      <td>3.5</td>\n",
       "      <td>1112484819</td>\n",
       "    </tr>\n",
       "    <tr>\n",
       "      <th>3</th>\n",
       "      <td>1</td>\n",
       "      <td>47</td>\n",
       "      <td>3.5</td>\n",
       "      <td>1112484727</td>\n",
       "    </tr>\n",
       "    <tr>\n",
       "      <th>4</th>\n",
       "      <td>1</td>\n",
       "      <td>50</td>\n",
       "      <td>3.5</td>\n",
       "      <td>1112484580</td>\n",
       "    </tr>\n",
       "  </tbody>\n",
       "</table>\n",
       "</div>"
      ],
      "text/plain": [
       "   userId  movieId  rating   timestamp\n",
       "0       1        2     3.5  1112486027\n",
       "1       1       29     3.5  1112484676\n",
       "2       1       32     3.5  1112484819\n",
       "3       1       47     3.5  1112484727\n",
       "4       1       50     3.5  1112484580"
      ]
     },
     "execution_count": 4,
     "metadata": {},
     "output_type": "execute_result"
    }
   ],
   "source": [
    "r.head()"
   ]
  },
  {
   "cell_type": "code",
   "execution_count": 5,
   "metadata": {
    "collapsed": false
   },
   "outputs": [
    {
     "data": {
      "text/html": [
       "<div>\n",
       "<table border=\"1\" class=\"dataframe\">\n",
       "  <thead>\n",
       "    <tr style=\"text-align: right;\">\n",
       "      <th></th>\n",
       "      <th>rating</th>\n",
       "    </tr>\n",
       "    <tr>\n",
       "      <th>movieId</th>\n",
       "      <th></th>\n",
       "    </tr>\n",
       "  </thead>\n",
       "  <tbody>\n",
       "    <tr>\n",
       "      <th>1</th>\n",
       "      <td>3.968880</td>\n",
       "    </tr>\n",
       "    <tr>\n",
       "      <th>2</th>\n",
       "      <td>3.250000</td>\n",
       "    </tr>\n",
       "    <tr>\n",
       "      <th>3</th>\n",
       "      <td>3.230159</td>\n",
       "    </tr>\n",
       "    <tr>\n",
       "      <th>4</th>\n",
       "      <td>3.384615</td>\n",
       "    </tr>\n",
       "    <tr>\n",
       "      <th>5</th>\n",
       "      <td>3.253623</td>\n",
       "    </tr>\n",
       "  </tbody>\n",
       "</table>\n",
       "</div>"
      ],
      "text/plain": [
       "           rating\n",
       "movieId          \n",
       "1        3.968880\n",
       "2        3.250000\n",
       "3        3.230159\n",
       "4        3.384615\n",
       "5        3.253623"
      ]
     },
     "execution_count": 5,
     "metadata": {},
     "output_type": "execute_result"
    }
   ],
   "source": [
    "# Find the average movie rating and store in 'mr'\n",
    "mr = pd.DataFrame(r[['movieId','rating']].groupby('movieId').mean())\n",
    "mr.head()"
   ]
  },
  {
   "cell_type": "code",
   "execution_count": 6,
   "metadata": {
    "collapsed": false
   },
   "outputs": [
    {
     "data": {
      "text/html": [
       "<div>\n",
       "<table border=\"1\" class=\"dataframe\">\n",
       "  <thead>\n",
       "    <tr style=\"text-align: right;\">\n",
       "      <th></th>\n",
       "      <th>num_ratings</th>\n",
       "    </tr>\n",
       "    <tr>\n",
       "      <th>movieId</th>\n",
       "      <th></th>\n",
       "    </tr>\n",
       "  </thead>\n",
       "  <tbody>\n",
       "    <tr>\n",
       "      <th>296</th>\n",
       "      <td>350</td>\n",
       "    </tr>\n",
       "    <tr>\n",
       "      <th>356</th>\n",
       "      <td>340</td>\n",
       "    </tr>\n",
       "    <tr>\n",
       "      <th>318</th>\n",
       "      <td>305</td>\n",
       "    </tr>\n",
       "    <tr>\n",
       "      <th>480</th>\n",
       "      <td>302</td>\n",
       "    </tr>\n",
       "    <tr>\n",
       "      <th>593</th>\n",
       "      <td>295</td>\n",
       "    </tr>\n",
       "  </tbody>\n",
       "</table>\n",
       "</div>"
      ],
      "text/plain": [
       "         num_ratings\n",
       "movieId             \n",
       "296              350\n",
       "356              340\n",
       "318              305\n",
       "480              302\n",
       "593              295"
      ]
     },
     "execution_count": 6,
     "metadata": {},
     "output_type": "execute_result"
    }
   ],
   "source": [
    "# Count the number of ratings and store in 'mc'. Sort by highest number of ratings forst\n",
    "mc = pd.DataFrame(r[['movieId','rating']].groupby('movieId').size(), columns=['num_ratings']).sort_values(by='num_ratings', ascending=0)\n",
    "mc.head()"
   ]
  },
  {
   "cell_type": "code",
   "execution_count": 7,
   "metadata": {
    "collapsed": false
   },
   "outputs": [
    {
     "data": {
      "text/html": [
       "<div>\n",
       "<table border=\"1\" class=\"dataframe\">\n",
       "  <thead>\n",
       "    <tr style=\"text-align: right;\">\n",
       "      <th></th>\n",
       "      <th>num_ratings</th>\n",
       "      <th>rating</th>\n",
       "    </tr>\n",
       "    <tr>\n",
       "      <th>movieId</th>\n",
       "      <th></th>\n",
       "      <th></th>\n",
       "    </tr>\n",
       "  </thead>\n",
       "  <tbody>\n",
       "    <tr>\n",
       "      <th>1</th>\n",
       "      <td>241</td>\n",
       "      <td>3.968880</td>\n",
       "    </tr>\n",
       "    <tr>\n",
       "      <th>2</th>\n",
       "      <td>112</td>\n",
       "      <td>3.250000</td>\n",
       "    </tr>\n",
       "    <tr>\n",
       "      <th>3</th>\n",
       "      <td>63</td>\n",
       "      <td>3.230159</td>\n",
       "    </tr>\n",
       "    <tr>\n",
       "      <th>4</th>\n",
       "      <td>13</td>\n",
       "      <td>3.384615</td>\n",
       "    </tr>\n",
       "    <tr>\n",
       "      <th>5</th>\n",
       "      <td>69</td>\n",
       "      <td>3.253623</td>\n",
       "    </tr>\n",
       "  </tbody>\n",
       "</table>\n",
       "</div>"
      ],
      "text/plain": [
       "         num_ratings    rating\n",
       "movieId                       \n",
       "1                241  3.968880\n",
       "2                112  3.250000\n",
       "3                 63  3.230159\n",
       "4                 13  3.384615\n",
       "5                 69  3.253623"
      ]
     },
     "execution_count": 7,
     "metadata": {},
     "output_type": "execute_result"
    }
   ],
   "source": [
    "# Show all movies, number of ratings 'num_ratings' and average rating 'rating'\n",
    "mrmc = mc.merge(mr, right_index=1, left_index=1)\n",
    "mrmc.head()"
   ]
  },
  {
   "cell_type": "code",
   "execution_count": 8,
   "metadata": {
    "collapsed": false
   },
   "outputs": [
    {
     "data": {
      "text/html": [
       "<div>\n",
       "<table border=\"1\" class=\"dataframe\">\n",
       "  <thead>\n",
       "    <tr style=\"text-align: right;\">\n",
       "      <th></th>\n",
       "      <th>movieId</th>\n",
       "      <th>num_ratings</th>\n",
       "      <th>rating</th>\n",
       "    </tr>\n",
       "    <tr>\n",
       "      <th>title</th>\n",
       "      <th></th>\n",
       "      <th></th>\n",
       "      <th></th>\n",
       "    </tr>\n",
       "  </thead>\n",
       "  <tbody>\n",
       "    <tr>\n",
       "      <th>CJ7 (Cheung Gong 7 hou) (2008)</th>\n",
       "      <td>58652.0</td>\n",
       "      <td>3.0</td>\n",
       "      <td>5.0</td>\n",
       "    </tr>\n",
       "    <tr>\n",
       "      <th>Cosi (1996)</th>\n",
       "      <td>705.0</td>\n",
       "      <td>2.0</td>\n",
       "      <td>5.0</td>\n",
       "    </tr>\n",
       "    <tr>\n",
       "      <th>Cries and Whispers (Viskningar och rop) (1972)</th>\n",
       "      <td>4422.0</td>\n",
       "      <td>2.0</td>\n",
       "      <td>5.0</td>\n",
       "    </tr>\n",
       "    <tr>\n",
       "      <th>Dear Diary (Caro Diario) (1994)</th>\n",
       "      <td>583.0</td>\n",
       "      <td>2.0</td>\n",
       "      <td>5.0</td>\n",
       "    </tr>\n",
       "    <tr>\n",
       "      <th>Effect of Gamma Rays on Man-in-the-Moon Marigolds, The (1972)</th>\n",
       "      <td>3069.0</td>\n",
       "      <td>2.0</td>\n",
       "      <td>5.0</td>\n",
       "    </tr>\n",
       "    <tr>\n",
       "      <th>Fellini's Roma (Roma) (1972)</th>\n",
       "      <td>4283.0</td>\n",
       "      <td>2.0</td>\n",
       "      <td>5.0</td>\n",
       "    </tr>\n",
       "    <tr>\n",
       "      <th>Sonic Outlaws (1995)</th>\n",
       "      <td>134.0</td>\n",
       "      <td>2.0</td>\n",
       "      <td>5.0</td>\n",
       "    </tr>\n",
       "    <tr>\n",
       "      <th>Spy Who Came in from the Cold, The (1965)</th>\n",
       "      <td>8772.0</td>\n",
       "      <td>2.0</td>\n",
       "      <td>5.0</td>\n",
       "    </tr>\n",
       "    <tr>\n",
       "      <th>Wall Street: Money Never Sleeps (2010)</th>\n",
       "      <td>80590.0</td>\n",
       "      <td>2.0</td>\n",
       "      <td>5.0</td>\n",
       "    </tr>\n",
       "    <tr>\n",
       "      <th>12 (2007)</th>\n",
       "      <td>56093.0</td>\n",
       "      <td>1.0</td>\n",
       "      <td>5.0</td>\n",
       "    </tr>\n",
       "  </tbody>\n",
       "</table>\n",
       "</div>"
      ],
      "text/plain": [
       "                                                    movieId  num_ratings  \\\n",
       "title                                                                      \n",
       "CJ7 (Cheung Gong 7 hou) (2008)                      58652.0          3.0   \n",
       "Cosi (1996)                                           705.0          2.0   \n",
       "Cries and Whispers (Viskningar och rop) (1972)       4422.0          2.0   \n",
       "Dear Diary (Caro Diario) (1994)                       583.0          2.0   \n",
       "Effect of Gamma Rays on Man-in-the-Moon Marigol...   3069.0          2.0   \n",
       "Fellini's Roma (Roma) (1972)                         4283.0          2.0   \n",
       "Sonic Outlaws (1995)                                  134.0          2.0   \n",
       "Spy Who Came in from the Cold, The (1965)            8772.0          2.0   \n",
       "Wall Street: Money Never Sleeps (2010)              80590.0          2.0   \n",
       "12 (2007)                                           56093.0          1.0   \n",
       "\n",
       "                                                    rating  \n",
       "title                                                       \n",
       "CJ7 (Cheung Gong 7 hou) (2008)                         5.0  \n",
       "Cosi (1996)                                            5.0  \n",
       "Cries and Whispers (Viskningar och rop) (1972)         5.0  \n",
       "Dear Diary (Caro Diario) (1994)                        5.0  \n",
       "Effect of Gamma Rays on Man-in-the-Moon Marigol...     5.0  \n",
       "Fellini's Roma (Roma) (1972)                           5.0  \n",
       "Sonic Outlaws (1995)                                   5.0  \n",
       "Spy Who Came in from the Cold, The (1965)              5.0  \n",
       "Wall Street: Money Never Sleeps (2010)                 5.0  \n",
       "12 (2007)                                              5.0  "
      ]
     },
     "execution_count": 8,
     "metadata": {},
     "output_type": "execute_result"
    }
   ],
   "source": [
    "# Show the top 10 movies if sorted by average rating, then number of ratings\n",
    "top = (m.merge(mrmc,how='left', left_on='movieId',right_index=1).groupby('title').mean().\n",
    "    sort_values(['rating','num_ratings'], ascending=[0,0]))\n",
    "top.head(10)"
   ]
  },
  {
   "cell_type": "code",
   "execution_count": 9,
   "metadata": {
    "collapsed": false
   },
   "outputs": [
    {
     "data": {
      "text/plain": [
       "array([[<matplotlib.axes._subplots.AxesSubplot object at 0x12313a590>]], dtype=object)"
      ]
     },
     "execution_count": 9,
     "metadata": {},
     "output_type": "execute_result"
    },
    {
     "data": {
      "image/png": "[encoded data removed]",
      "text/plain": [
       "<matplotlib.figure.Figure at 0x1130cf290>"
      ]
     },
     "metadata": {},
     "output_type": "display_data"
    }
   ],
   "source": [
    "# Show the rating distribution across all films\n",
    "pd.DataFrame.hist(mrmc,'rating', bins=10)"
   ]
  },
  {
   "cell_type": "code",
   "execution_count": 10,
   "metadata": {
    "collapsed": false
   },
   "outputs": [
    {
     "data": {
      "text/plain": [
       "array([[<matplotlib.axes._subplots.AxesSubplot object at 0x11328b7d0>]], dtype=object)"
      ]
     },
     "execution_count": 10,
     "metadata": {},
     "output_type": "execute_result"
    },
    {
     "data": {
      "image/png": "[encoded data removed]",
      "text/plain": [
       "<matplotlib.figure.Figure at 0x113292a10>"
      ]
     },
     "metadata": {},
     "output_type": "display_data"
    }
   ],
   "source": [
    "# Show the distribution of number of ratings\n",
    "pd.DataFrame.hist(mc, column='num_ratings', bins=100)"
   ]
  },
  {
   "cell_type": "code",
   "execution_count": 11,
   "metadata": {
    "collapsed": true
   },
   "outputs": [],
   "source": [
    "# Based on the above, it appears many films have < 100 ratings..."
   ]
  },
  {
   "cell_type": "code",
   "execution_count": 12,
   "metadata": {
    "collapsed": false
   },
   "outputs": [
    {
     "data": {
      "text/plain": [
       "array([[<matplotlib.axes._subplots.AxesSubplot object at 0x113a0d590>]], dtype=object)"
      ]
     },
     "execution_count": 12,
     "metadata": {},
     "output_type": "execute_result"
    },
    {
     "data": {
      "image/png": "[encoded data removed]",
      "text/plain": [
       "<matplotlib.figure.Figure at 0x113a27d10>"
      ]
     },
     "metadata": {},
     "output_type": "display_data"
    }
   ],
   "source": [
    "# Zoom in on distribution for num_ratings > 100\n",
    "pd.DataFrame.hist(mc[mc.num_ratings>100], column='num_ratings', bins=10)"
   ]
  },
  {
   "cell_type": "code",
   "execution_count": 13,
   "metadata": {
    "collapsed": false
   },
   "outputs": [
    {
     "data": {
      "text/plain": [
       "array([[<matplotlib.axes._subplots.AxesSubplot object at 0x1143ba110>]], dtype=object)"
      ]
     },
     "execution_count": 13,
     "metadata": {},
     "output_type": "execute_result"
    },
    {
     "data": {
      "image/png": "[encoded data removed]",
      "text/plain": [
       "<matplotlib.figure.Figure at 0x113794f90>"
      ]
     },
     "metadata": {},
     "output_type": "display_data"
    }
   ],
   "source": [
    "# Zoom in on distribution for num_ratings <= 100\n",
    "pd.DataFrame.hist(mc[mc.num_ratings<=100], column='num_ratings', bins=100)"
   ]
  },
  {
   "cell_type": "code",
   "execution_count": 14,
   "metadata": {
    "collapsed": false
   },
   "outputs": [
    {
     "data": {
      "text/html": [
       "<div>\n",
       "<table border=\"1\" class=\"dataframe\">\n",
       "  <thead>\n",
       "    <tr style=\"text-align: right;\">\n",
       "      <th></th>\n",
       "      <th>movieId</th>\n",
       "      <th>num_ratings</th>\n",
       "      <th>rating</th>\n",
       "    </tr>\n",
       "    <tr>\n",
       "      <th>title</th>\n",
       "      <th></th>\n",
       "      <th></th>\n",
       "      <th></th>\n",
       "    </tr>\n",
       "  </thead>\n",
       "  <tbody>\n",
       "    <tr>\n",
       "      <th>Godfather: Part II, The (1974)</th>\n",
       "      <td>1221.0</td>\n",
       "      <td>137.0</td>\n",
       "      <td>4.419708</td>\n",
       "    </tr>\n",
       "    <tr>\n",
       "      <th>Shawshank Redemption, The (1994)</th>\n",
       "      <td>318.0</td>\n",
       "      <td>305.0</td>\n",
       "      <td>4.413115</td>\n",
       "    </tr>\n",
       "    <tr>\n",
       "      <th>Godfather, The (1972)</th>\n",
       "      <td>858.0</td>\n",
       "      <td>197.0</td>\n",
       "      <td>4.395939</td>\n",
       "    </tr>\n",
       "    <tr>\n",
       "      <th>One Flew Over the Cuckoo's Nest (1975)</th>\n",
       "      <td>1193.0</td>\n",
       "      <td>148.0</td>\n",
       "      <td>4.354730</td>\n",
       "    </tr>\n",
       "    <tr>\n",
       "      <th>Usual Suspects, The (1995)</th>\n",
       "      <td>50.0</td>\n",
       "      <td>224.0</td>\n",
       "      <td>4.337054</td>\n",
       "    </tr>\n",
       "    <tr>\n",
       "      <th>Amelie (Fabuleux destin d'Amélie Poulain, Le) (2001)</th>\n",
       "      <td>4973.0</td>\n",
       "      <td>128.0</td>\n",
       "      <td>4.273438</td>\n",
       "    </tr>\n",
       "    <tr>\n",
       "      <th>Fight Club (1999)</th>\n",
       "      <td>2959.0</td>\n",
       "      <td>207.0</td>\n",
       "      <td>4.270531</td>\n",
       "    </tr>\n",
       "    <tr>\n",
       "      <th>Schindler's List (1993)</th>\n",
       "      <td>527.0</td>\n",
       "      <td>247.0</td>\n",
       "      <td>4.263158</td>\n",
       "    </tr>\n",
       "    <tr>\n",
       "      <th>Casablanca (1942)</th>\n",
       "      <td>912.0</td>\n",
       "      <td>122.0</td>\n",
       "      <td>4.237705</td>\n",
       "    </tr>\n",
       "    <tr>\n",
       "      <th>Memento (2000)</th>\n",
       "      <td>4226.0</td>\n",
       "      <td>161.0</td>\n",
       "      <td>4.214286</td>\n",
       "    </tr>\n",
       "  </tbody>\n",
       "</table>\n",
       "</div>"
      ],
      "text/plain": [
       "                                                    movieId  num_ratings  \\\n",
       "title                                                                      \n",
       "Godfather: Part II, The (1974)                       1221.0        137.0   \n",
       "Shawshank Redemption, The (1994)                      318.0        305.0   \n",
       "Godfather, The (1972)                                 858.0        197.0   \n",
       "One Flew Over the Cuckoo's Nest (1975)               1193.0        148.0   \n",
       "Usual Suspects, The (1995)                             50.0        224.0   \n",
       "Amelie (Fabuleux destin d'Amélie Poulain, Le) (...   4973.0        128.0   \n",
       "Fight Club (1999)                                    2959.0        207.0   \n",
       "Schindler's List (1993)                               527.0        247.0   \n",
       "Casablanca (1942)                                     912.0        122.0   \n",
       "Memento (2000)                                       4226.0        161.0   \n",
       "\n",
       "                                                      rating  \n",
       "title                                                         \n",
       "Godfather: Part II, The (1974)                      4.419708  \n",
       "Shawshank Redemption, The (1994)                    4.413115  \n",
       "Godfather, The (1972)                               4.395939  \n",
       "One Flew Over the Cuckoo's Nest (1975)              4.354730  \n",
       "Usual Suspects, The (1995)                          4.337054  \n",
       "Amelie (Fabuleux destin d'Amélie Poulain, Le) (...  4.273438  \n",
       "Fight Club (1999)                                   4.270531  \n",
       "Schindler's List (1993)                             4.263158  \n",
       "Casablanca (1942)                                   4.237705  \n",
       "Memento (2000)                                      4.214286  "
      ]
     },
     "execution_count": 14,
     "metadata": {},
     "output_type": "execute_result"
    }
   ],
   "source": [
    "# Show the top 10 movies if sorted by average rating, then number of ratings, ...\n",
    "# for only those that have > 100 ratings\n",
    "top_better = (m.merge(mrmc[mrmc.num_ratings>100],how='left', left_on='movieId',right_index=1).groupby('title').mean().\n",
    "    sort_values(['rating','num_ratings'], ascending=[0,0]))\n",
    "top_better.head(10)"
   ]
  },
  {
   "cell_type": "code",
   "execution_count": null,
   "metadata": {
    "collapsed": false
   },
   "outputs": [],
   "source": []
  },
  {
   "cell_type": "code",
   "execution_count": 15,
   "metadata": {
    "collapsed": false
   },
   "outputs": [
    {
     "data": {
      "text/html": [
       "<div>\n",
       "<table border=\"1\" class=\"dataframe\">\n",
       "  <thead>\n",
       "    <tr style=\"text-align: right;\">\n",
       "      <th></th>\n",
       "      <th>genres</th>\n",
       "    </tr>\n",
       "  </thead>\n",
       "  <tbody>\n",
       "    <tr>\n",
       "      <th>Drama</th>\n",
       "      <td>4520</td>\n",
       "    </tr>\n",
       "    <tr>\n",
       "      <th>Comedy</th>\n",
       "      <td>2294</td>\n",
       "    </tr>\n",
       "    <tr>\n",
       "      <th>Documentary</th>\n",
       "      <td>1942</td>\n",
       "    </tr>\n",
       "    <tr>\n",
       "      <th>Comedy|Drama</th>\n",
       "      <td>1264</td>\n",
       "    </tr>\n",
       "    <tr>\n",
       "      <th>Drama|Romance</th>\n",
       "      <td>1075</td>\n",
       "    </tr>\n",
       "    <tr>\n",
       "      <th>Comedy|Romance</th>\n",
       "      <td>757</td>\n",
       "    </tr>\n",
       "    <tr>\n",
       "      <th>Comedy|Drama|Romance</th>\n",
       "      <td>605</td>\n",
       "    </tr>\n",
       "    <tr>\n",
       "      <th>Horror</th>\n",
       "      <td>565</td>\n",
       "    </tr>\n",
       "    <tr>\n",
       "      <th>Crime|Drama</th>\n",
       "      <td>448</td>\n",
       "    </tr>\n",
       "    <tr>\n",
       "      <th>Drama|Thriller</th>\n",
       "      <td>426</td>\n",
       "    </tr>\n",
       "    <tr>\n",
       "      <th>Drama|War</th>\n",
       "      <td>399</td>\n",
       "    </tr>\n",
       "    <tr>\n",
       "      <th>Horror|Thriller</th>\n",
       "      <td>374</td>\n",
       "    </tr>\n",
       "    <tr>\n",
       "      <th>Crime|Drama|Thriller</th>\n",
       "      <td>304</td>\n",
       "    </tr>\n",
       "    <tr>\n",
       "      <th>Thriller</th>\n",
       "      <td>268</td>\n",
       "    </tr>\n",
       "    <tr>\n",
       "      <th>(no genres listed)</th>\n",
       "      <td>246</td>\n",
       "    </tr>\n",
       "    <tr>\n",
       "      <th>Western</th>\n",
       "      <td>215</td>\n",
       "    </tr>\n",
       "    <tr>\n",
       "      <th>Action|Drama</th>\n",
       "      <td>210</td>\n",
       "    </tr>\n",
       "    <tr>\n",
       "      <th>Comedy|Crime</th>\n",
       "      <td>187</td>\n",
       "    </tr>\n",
       "    <tr>\n",
       "      <th>Action</th>\n",
       "      <td>178</td>\n",
       "    </tr>\n",
       "    <tr>\n",
       "      <th>Comedy|Horror</th>\n",
       "      <td>170</td>\n",
       "    </tr>\n",
       "  </tbody>\n",
       "</table>\n",
       "</div>"
      ],
      "text/plain": [
       "                      genres\n",
       "Drama                   4520\n",
       "Comedy                  2294\n",
       "Documentary             1942\n",
       "Comedy|Drama            1264\n",
       "Drama|Romance           1075\n",
       "Comedy|Romance           757\n",
       "Comedy|Drama|Romance     605\n",
       "Horror                   565\n",
       "Crime|Drama              448\n",
       "Drama|Thriller           426\n",
       "Drama|War                399\n",
       "Horror|Thriller          374\n",
       "Crime|Drama|Thriller     304\n",
       "Thriller                 268\n",
       "(no genres listed)       246\n",
       "Western                  215\n",
       "Action|Drama             210\n",
       "Comedy|Crime             187\n",
       "Action                   178\n",
       "Comedy|Horror            170"
      ]
     },
     "execution_count": 15,
     "metadata": {},
     "output_type": "execute_result"
    }
   ],
   "source": [
    "# Show the most common genre combinations in 'cgc'\n",
    "cgc = pd.DataFrame(m.genres.value_counts().head(20))\n",
    "cgc"
   ]
  },
  {
   "cell_type": "code",
   "execution_count": 16,
   "metadata": {
    "collapsed": false
   },
   "outputs": [
    {
     "data": {
      "text/plain": [
       "array(['Action', 'Adventure', 'Animation', 'Children', 'Comedy', 'Crime',\n",
       "       'Documentary', 'Drama', 'Fantasy', 'Film-Noir', 'Horror', 'IMAX',\n",
       "       'Musical', 'Mystery', 'Romance', 'Sci-Fi', 'Thriller', 'War',\n",
       "       'Western'], dtype=object)"
      ]
     },
     "execution_count": 16,
     "metadata": {},
     "output_type": "execute_result"
    }
   ],
   "source": [
    "# Find all unique genres in array 'g' (assuming there is at least one film, with this single genre combo)\n",
    "g = pd.DataFrame(m[~m.genres.str.contains('[|]|[(]')].groupby('genres').size())\n",
    "g = g.index.values\n",
    "g"
   ]
  },
  {
   "cell_type": "code",
   "execution_count": 17,
   "metadata": {
    "collapsed": false
   },
   "outputs": [
    {
     "data": {
      "text/html": [
       "<div>\n",
       "<table border=\"1\" class=\"dataframe\">\n",
       "  <thead>\n",
       "    <tr style=\"text-align: right;\">\n",
       "      <th></th>\n",
       "      <th>movieId</th>\n",
       "      <th>num_ratings</th>\n",
       "      <th>rating</th>\n",
       "      <th>title</th>\n",
       "      <th>genres</th>\n",
       "    </tr>\n",
       "  </thead>\n",
       "  <tbody>\n",
       "    <tr>\n",
       "      <th>5</th>\n",
       "      <td>4973.0</td>\n",
       "      <td>128.0</td>\n",
       "      <td>4.273438</td>\n",
       "      <td>Amelie (Fabuleux destin d'Amélie Poulain, Le) ...</td>\n",
       "      <td>Comedy|Romance</td>\n",
       "    </tr>\n",
       "    <tr>\n",
       "      <th>11</th>\n",
       "      <td>1136.0</td>\n",
       "      <td>166.0</td>\n",
       "      <td>4.186747</td>\n",
       "      <td>Monty Python and the Holy Grail (1975)</td>\n",
       "      <td>Adventure|Comedy|Fantasy</td>\n",
       "    </tr>\n",
       "    <tr>\n",
       "      <th>13</th>\n",
       "      <td>750.0</td>\n",
       "      <td>122.0</td>\n",
       "      <td>4.151639</td>\n",
       "      <td>Dr. Strangelove or: How I Learned to Stop Worr...</td>\n",
       "      <td>Comedy|War</td>\n",
       "    </tr>\n",
       "    <tr>\n",
       "      <th>17</th>\n",
       "      <td>2858.0</td>\n",
       "      <td>238.0</td>\n",
       "      <td>4.128151</td>\n",
       "      <td>American Beauty (1999)</td>\n",
       "      <td>Comedy|Drama</td>\n",
       "    </tr>\n",
       "    <tr>\n",
       "      <th>22</th>\n",
       "      <td>296.0</td>\n",
       "      <td>350.0</td>\n",
       "      <td>4.100000</td>\n",
       "      <td>Pulp Fiction (1994)</td>\n",
       "      <td>Comedy|Crime|Drama|Thriller</td>\n",
       "    </tr>\n",
       "    <tr>\n",
       "      <th>29</th>\n",
       "      <td>356.0</td>\n",
       "      <td>340.0</td>\n",
       "      <td>4.058824</td>\n",
       "      <td>Forrest Gump (1994)</td>\n",
       "      <td>Comedy|Drama|Romance|War</td>\n",
       "    </tr>\n",
       "    <tr>\n",
       "      <th>32</th>\n",
       "      <td>1197.0</td>\n",
       "      <td>165.0</td>\n",
       "      <td>4.039394</td>\n",
       "      <td>Princess Bride, The (1987)</td>\n",
       "      <td>Action|Adventure|Comedy|Fantasy|Romance</td>\n",
       "    </tr>\n",
       "    <tr>\n",
       "      <th>34</th>\n",
       "      <td>608.0</td>\n",
       "      <td>230.0</td>\n",
       "      <td>4.039130</td>\n",
       "      <td>Fargo (1996)</td>\n",
       "      <td>Comedy|Crime|Drama|Thriller</td>\n",
       "    </tr>\n",
       "    <tr>\n",
       "      <th>40</th>\n",
       "      <td>223.0</td>\n",
       "      <td>121.0</td>\n",
       "      <td>4.008264</td>\n",
       "      <td>Clerks (1994)</td>\n",
       "      <td>Comedy</td>\n",
       "    </tr>\n",
       "    <tr>\n",
       "      <th>44</th>\n",
       "      <td>778.0</td>\n",
       "      <td>120.0</td>\n",
       "      <td>3.979167</td>\n",
       "      <td>Trainspotting (1996)</td>\n",
       "      <td>Comedy|Crime|Drama</td>\n",
       "    </tr>\n",
       "  </tbody>\n",
       "</table>\n",
       "</div>"
      ],
      "text/plain": [
       "    movieId  num_ratings    rating  \\\n",
       "5    4973.0        128.0  4.273438   \n",
       "11   1136.0        166.0  4.186747   \n",
       "13    750.0        122.0  4.151639   \n",
       "17   2858.0        238.0  4.128151   \n",
       "22    296.0        350.0  4.100000   \n",
       "29    356.0        340.0  4.058824   \n",
       "32   1197.0        165.0  4.039394   \n",
       "34    608.0        230.0  4.039130   \n",
       "40    223.0        121.0  4.008264   \n",
       "44    778.0        120.0  3.979167   \n",
       "\n",
       "                                                title  \\\n",
       "5   Amelie (Fabuleux destin d'Amélie Poulain, Le) ...   \n",
       "11             Monty Python and the Holy Grail (1975)   \n",
       "13  Dr. Strangelove or: How I Learned to Stop Worr...   \n",
       "17                             American Beauty (1999)   \n",
       "22                                Pulp Fiction (1994)   \n",
       "29                                Forrest Gump (1994)   \n",
       "32                         Princess Bride, The (1987)   \n",
       "34                                       Fargo (1996)   \n",
       "40                                      Clerks (1994)   \n",
       "44                               Trainspotting (1996)   \n",
       "\n",
       "                                     genres  \n",
       "5                            Comedy|Romance  \n",
       "11                 Adventure|Comedy|Fantasy  \n",
       "13                               Comedy|War  \n",
       "17                             Comedy|Drama  \n",
       "22              Comedy|Crime|Drama|Thriller  \n",
       "29                 Comedy|Drama|Romance|War  \n",
       "32  Action|Adventure|Comedy|Fantasy|Romance  \n",
       "34              Comedy|Crime|Drama|Thriller  \n",
       "40                                   Comedy  \n",
       "44                       Comedy|Crime|Drama  "
      ]
     },
     "execution_count": 17,
     "metadata": {},
     "output_type": "execute_result"
    }
   ],
   "source": [
    "# Show the top 10 films with a comedy genre\n",
    "df = top_better.merge(m)\n",
    "top_comedy = df[df.genres.str.contains('Comedy')].head(10)\n",
    "top_comedy"
   ]
  },
  {
   "cell_type": "code",
   "execution_count": 18,
   "metadata": {
    "collapsed": false
   },
   "outputs": [
    {
     "data": {
      "text/html": [
       "<div>\n",
       "<table border=\"1\" class=\"dataframe\">\n",
       "  <thead>\n",
       "    <tr style=\"text-align: right;\">\n",
       "      <th></th>\n",
       "      <th>movieId</th>\n",
       "      <th>num_ratings</th>\n",
       "      <th>rating</th>\n",
       "      <th>title</th>\n",
       "      <th>genres</th>\n",
       "    </tr>\n",
       "  </thead>\n",
       "  <tbody>\n",
       "    <tr>\n",
       "      <th>5</th>\n",
       "      <td>4973.0</td>\n",
       "      <td>128.0</td>\n",
       "      <td>4.273438</td>\n",
       "      <td>Amelie (Fabuleux destin d'Amélie Poulain, Le) ...</td>\n",
       "      <td>Comedy|Romance</td>\n",
       "    </tr>\n",
       "    <tr>\n",
       "      <th>8</th>\n",
       "      <td>912.0</td>\n",
       "      <td>122.0</td>\n",
       "      <td>4.237705</td>\n",
       "      <td>Casablanca (1942)</td>\n",
       "      <td>Drama|Romance</td>\n",
       "    </tr>\n",
       "    <tr>\n",
       "      <th>18</th>\n",
       "      <td>7361.0</td>\n",
       "      <td>113.0</td>\n",
       "      <td>4.119469</td>\n",
       "      <td>Eternal Sunshine of the Spotless Mind (2004)</td>\n",
       "      <td>Drama|Romance|Sci-Fi</td>\n",
       "    </tr>\n",
       "    <tr>\n",
       "      <th>29</th>\n",
       "      <td>356.0</td>\n",
       "      <td>340.0</td>\n",
       "      <td>4.058824</td>\n",
       "      <td>Forrest Gump (1994)</td>\n",
       "      <td>Comedy|Drama|Romance|War</td>\n",
       "    </tr>\n",
       "    <tr>\n",
       "      <th>32</th>\n",
       "      <td>1197.0</td>\n",
       "      <td>165.0</td>\n",
       "      <td>4.039394</td>\n",
       "      <td>Princess Bride, The (1987)</td>\n",
       "      <td>Action|Adventure|Comedy|Fantasy|Romance</td>\n",
       "    </tr>\n",
       "    <tr>\n",
       "      <th>43</th>\n",
       "      <td>3996.0</td>\n",
       "      <td>111.0</td>\n",
       "      <td>3.986486</td>\n",
       "      <td>Crouching Tiger, Hidden Dragon (Wo hu cang lon...</td>\n",
       "      <td>Action|Drama|Romance</td>\n",
       "    </tr>\n",
       "    <tr>\n",
       "      <th>47</th>\n",
       "      <td>1704.0</td>\n",
       "      <td>130.0</td>\n",
       "      <td>3.965385</td>\n",
       "      <td>Good Will Hunting (1997)</td>\n",
       "      <td>Drama|Romance</td>\n",
       "    </tr>\n",
       "    <tr>\n",
       "      <th>49</th>\n",
       "      <td>4995.0</td>\n",
       "      <td>107.0</td>\n",
       "      <td>3.953271</td>\n",
       "      <td>Beautiful Mind, A (2001)</td>\n",
       "      <td>Drama|Romance</td>\n",
       "    </tr>\n",
       "    <tr>\n",
       "      <th>72</th>\n",
       "      <td>2396.0</td>\n",
       "      <td>128.0</td>\n",
       "      <td>3.855469</td>\n",
       "      <td>Shakespeare in Love (1998)</td>\n",
       "      <td>Comedy|Drama|Romance</td>\n",
       "    </tr>\n",
       "    <tr>\n",
       "      <th>74</th>\n",
       "      <td>1265.0</td>\n",
       "      <td>150.0</td>\n",
       "      <td>3.846667</td>\n",
       "      <td>Groundhog Day (1993)</td>\n",
       "      <td>Comedy|Fantasy|Romance</td>\n",
       "    </tr>\n",
       "  </tbody>\n",
       "</table>\n",
       "</div>"
      ],
      "text/plain": [
       "    movieId  num_ratings    rating  \\\n",
       "5    4973.0        128.0  4.273438   \n",
       "8     912.0        122.0  4.237705   \n",
       "18   7361.0        113.0  4.119469   \n",
       "29    356.0        340.0  4.058824   \n",
       "32   1197.0        165.0  4.039394   \n",
       "43   3996.0        111.0  3.986486   \n",
       "47   1704.0        130.0  3.965385   \n",
       "49   4995.0        107.0  3.953271   \n",
       "72   2396.0        128.0  3.855469   \n",
       "74   1265.0        150.0  3.846667   \n",
       "\n",
       "                                                title  \\\n",
       "5   Amelie (Fabuleux destin d'Amélie Poulain, Le) ...   \n",
       "8                                   Casablanca (1942)   \n",
       "18       Eternal Sunshine of the Spotless Mind (2004)   \n",
       "29                                Forrest Gump (1994)   \n",
       "32                         Princess Bride, The (1987)   \n",
       "43  Crouching Tiger, Hidden Dragon (Wo hu cang lon...   \n",
       "47                           Good Will Hunting (1997)   \n",
       "49                           Beautiful Mind, A (2001)   \n",
       "72                         Shakespeare in Love (1998)   \n",
       "74                               Groundhog Day (1993)   \n",
       "\n",
       "                                     genres  \n",
       "5                            Comedy|Romance  \n",
       "8                             Drama|Romance  \n",
       "18                     Drama|Romance|Sci-Fi  \n",
       "29                 Comedy|Drama|Romance|War  \n",
       "32  Action|Adventure|Comedy|Fantasy|Romance  \n",
       "43                     Action|Drama|Romance  \n",
       "47                            Drama|Romance  \n",
       "49                            Drama|Romance  \n",
       "72                     Comedy|Drama|Romance  \n",
       "74                   Comedy|Fantasy|Romance  "
      ]
     },
     "execution_count": 18,
     "metadata": {},
     "output_type": "execute_result"
    }
   ],
   "source": [
    "# Show the top 10 films with a romance genre\n",
    "df = top_better.merge(m)\n",
    "top_romance = df[df.genres.str.contains('Romance')].head(10)\n",
    "top_romance"
   ]
  },
  {
   "cell_type": "code",
   "execution_count": 19,
   "metadata": {
    "collapsed": false
   },
   "outputs": [
    {
     "data": {
      "text/html": [
       "<div>\n",
       "<table border=\"1\" class=\"dataframe\">\n",
       "  <thead>\n",
       "    <tr style=\"text-align: right;\">\n",
       "      <th></th>\n",
       "      <th>movieId</th>\n",
       "      <th>num_ratings</th>\n",
       "      <th>rating</th>\n",
       "      <th>title</th>\n",
       "      <th>genres</th>\n",
       "    </tr>\n",
       "  </thead>\n",
       "  <tbody>\n",
       "    <tr>\n",
       "      <th>0</th>\n",
       "      <td>1221.0</td>\n",
       "      <td>137.0</td>\n",
       "      <td>4.419708</td>\n",
       "      <td>Godfather: Part II, The (1974)</td>\n",
       "      <td>Crime|Drama</td>\n",
       "    </tr>\n",
       "    <tr>\n",
       "      <th>1</th>\n",
       "      <td>318.0</td>\n",
       "      <td>305.0</td>\n",
       "      <td>4.413115</td>\n",
       "      <td>Shawshank Redemption, The (1994)</td>\n",
       "      <td>Crime|Drama</td>\n",
       "    </tr>\n",
       "    <tr>\n",
       "      <th>2</th>\n",
       "      <td>858.0</td>\n",
       "      <td>197.0</td>\n",
       "      <td>4.395939</td>\n",
       "      <td>Godfather, The (1972)</td>\n",
       "      <td>Crime|Drama</td>\n",
       "    </tr>\n",
       "    <tr>\n",
       "      <th>3</th>\n",
       "      <td>1193.0</td>\n",
       "      <td>148.0</td>\n",
       "      <td>4.354730</td>\n",
       "      <td>One Flew Over the Cuckoo's Nest (1975)</td>\n",
       "      <td>Drama</td>\n",
       "    </tr>\n",
       "    <tr>\n",
       "      <th>6</th>\n",
       "      <td>2959.0</td>\n",
       "      <td>207.0</td>\n",
       "      <td>4.270531</td>\n",
       "      <td>Fight Club (1999)</td>\n",
       "      <td>Action|Crime|Drama|Thriller</td>\n",
       "    </tr>\n",
       "    <tr>\n",
       "      <th>7</th>\n",
       "      <td>527.0</td>\n",
       "      <td>247.0</td>\n",
       "      <td>4.263158</td>\n",
       "      <td>Schindler's List (1993)</td>\n",
       "      <td>Drama|War</td>\n",
       "    </tr>\n",
       "    <tr>\n",
       "      <th>8</th>\n",
       "      <td>912.0</td>\n",
       "      <td>122.0</td>\n",
       "      <td>4.237705</td>\n",
       "      <td>Casablanca (1942)</td>\n",
       "      <td>Drama|Romance</td>\n",
       "    </tr>\n",
       "    <tr>\n",
       "      <th>10</th>\n",
       "      <td>1213.0</td>\n",
       "      <td>132.0</td>\n",
       "      <td>4.189394</td>\n",
       "      <td>Goodfellas (1990)</td>\n",
       "      <td>Crime|Drama</td>\n",
       "    </tr>\n",
       "    <tr>\n",
       "      <th>12</th>\n",
       "      <td>2329.0</td>\n",
       "      <td>126.0</td>\n",
       "      <td>4.162698</td>\n",
       "      <td>American History X (1998)</td>\n",
       "      <td>Crime|Drama</td>\n",
       "    </tr>\n",
       "    <tr>\n",
       "      <th>16</th>\n",
       "      <td>1208.0</td>\n",
       "      <td>122.0</td>\n",
       "      <td>4.135246</td>\n",
       "      <td>Apocalypse Now (1979)</td>\n",
       "      <td>Action|Drama|War</td>\n",
       "    </tr>\n",
       "  </tbody>\n",
       "</table>\n",
       "</div>"
      ],
      "text/plain": [
       "    movieId  num_ratings    rating                                   title  \\\n",
       "0    1221.0        137.0  4.419708          Godfather: Part II, The (1974)   \n",
       "1     318.0        305.0  4.413115        Shawshank Redemption, The (1994)   \n",
       "2     858.0        197.0  4.395939                   Godfather, The (1972)   \n",
       "3    1193.0        148.0  4.354730  One Flew Over the Cuckoo's Nest (1975)   \n",
       "6    2959.0        207.0  4.270531                       Fight Club (1999)   \n",
       "7     527.0        247.0  4.263158                 Schindler's List (1993)   \n",
       "8     912.0        122.0  4.237705                       Casablanca (1942)   \n",
       "10   1213.0        132.0  4.189394                       Goodfellas (1990)   \n",
       "12   2329.0        126.0  4.162698               American History X (1998)   \n",
       "16   1208.0        122.0  4.135246                   Apocalypse Now (1979)   \n",
       "\n",
       "                         genres  \n",
       "0                   Crime|Drama  \n",
       "1                   Crime|Drama  \n",
       "2                   Crime|Drama  \n",
       "3                         Drama  \n",
       "6   Action|Crime|Drama|Thriller  \n",
       "7                     Drama|War  \n",
       "8                 Drama|Romance  \n",
       "10                  Crime|Drama  \n",
       "12                  Crime|Drama  \n",
       "16             Action|Drama|War  "
      ]
     },
     "execution_count": 19,
     "metadata": {},
     "output_type": "execute_result"
    }
   ],
   "source": [
    "# Show the top 10 films with a drama genre\n",
    "df = top_better.merge(m)\n",
    "top_romance = df[df.genres.str.contains('Drama')].head(10)\n",
    "top_romance"
   ]
  },
  {
   "cell_type": "code",
   "execution_count": 22,
   "metadata": {
    "collapsed": false
   },
   "outputs": [
    {
     "data": {
      "text/html": [
       "<div>\n",
       "<table border=\"1\" class=\"dataframe\">\n",
       "  <thead>\n",
       "    <tr style=\"text-align: right;\">\n",
       "      <th></th>\n",
       "      <th>genre</th>\n",
       "      <th>num_ratings</th>\n",
       "      <th>rating</th>\n",
       "      <th>total_movies</th>\n",
       "    </tr>\n",
       "  </thead>\n",
       "  <tbody>\n",
       "    <tr>\n",
       "      <th>9</th>\n",
       "      <td>Film-Noir</td>\n",
       "      <td>1037.0</td>\n",
       "      <td>4.016393</td>\n",
       "      <td>330.0</td>\n",
       "    </tr>\n",
       "    <tr>\n",
       "      <th>17</th>\n",
       "      <td>War</td>\n",
       "      <td>5192.0</td>\n",
       "      <td>3.799307</td>\n",
       "      <td>1194.0</td>\n",
       "    </tr>\n",
       "    <tr>\n",
       "      <th>6</th>\n",
       "      <td>Documentary</td>\n",
       "      <td>1231.0</td>\n",
       "      <td>3.759139</td>\n",
       "      <td>2471.0</td>\n",
       "    </tr>\n",
       "    <tr>\n",
       "      <th>13</th>\n",
       "      <td>Mystery</td>\n",
       "      <td>7695.0</td>\n",
       "      <td>3.669591</td>\n",
       "      <td>1514.0</td>\n",
       "    </tr>\n",
       "    <tr>\n",
       "      <th>7</th>\n",
       "      <td>Drama</td>\n",
       "      <td>43172.0</td>\n",
       "      <td>3.667435</td>\n",
       "      <td>13344.0</td>\n",
       "    </tr>\n",
       "    <tr>\n",
       "      <th>5</th>\n",
       "      <td>Crime</td>\n",
       "      <td>16222.0</td>\n",
       "      <td>3.665608</td>\n",
       "      <td>2939.0</td>\n",
       "    </tr>\n",
       "    <tr>\n",
       "      <th>11</th>\n",
       "      <td>IMAX</td>\n",
       "      <td>2438.0</td>\n",
       "      <td>3.662633</td>\n",
       "      <td>196.0</td>\n",
       "    </tr>\n",
       "    <tr>\n",
       "      <th>2</th>\n",
       "      <td>Animation</td>\n",
       "      <td>5654.0</td>\n",
       "      <td>3.560842</td>\n",
       "      <td>1027.0</td>\n",
       "    </tr>\n",
       "    <tr>\n",
       "      <th>12</th>\n",
       "      <td>Musical</td>\n",
       "      <td>4299.0</td>\n",
       "      <td>3.534543</td>\n",
       "      <td>1036.0</td>\n",
       "    </tr>\n",
       "    <tr>\n",
       "      <th>14</th>\n",
       "      <td>Romance</td>\n",
       "      <td>18930.0</td>\n",
       "      <td>3.532805</td>\n",
       "      <td>4127.0</td>\n",
       "    </tr>\n",
       "    <tr>\n",
       "      <th>16</th>\n",
       "      <td>Thriller</td>\n",
       "      <td>26560.0</td>\n",
       "      <td>3.509639</td>\n",
       "      <td>4178.0</td>\n",
       "    </tr>\n",
       "    <tr>\n",
       "      <th>8</th>\n",
       "      <td>Fantasy</td>\n",
       "      <td>10706.0</td>\n",
       "      <td>3.492107</td>\n",
       "      <td>1412.0</td>\n",
       "    </tr>\n",
       "    <tr>\n",
       "      <th>1</th>\n",
       "      <td>Adventure</td>\n",
       "      <td>22065.0</td>\n",
       "      <td>3.476456</td>\n",
       "      <td>2329.0</td>\n",
       "    </tr>\n",
       "    <tr>\n",
       "      <th>18</th>\n",
       "      <td>Western</td>\n",
       "      <td>2349.0</td>\n",
       "      <td>3.475309</td>\n",
       "      <td>676.0</td>\n",
       "    </tr>\n",
       "    <tr>\n",
       "      <th>0</th>\n",
       "      <td>Action</td>\n",
       "      <td>28497.0</td>\n",
       "      <td>3.429536</td>\n",
       "      <td>3520.0</td>\n",
       "    </tr>\n",
       "    <tr>\n",
       "      <th>15</th>\n",
       "      <td>Sci-Fi</td>\n",
       "      <td>16155.0</td>\n",
       "      <td>3.411947</td>\n",
       "      <td>1743.0</td>\n",
       "    </tr>\n",
       "    <tr>\n",
       "      <th>4</th>\n",
       "      <td>Comedy</td>\n",
       "      <td>38194.0</td>\n",
       "      <td>3.409200</td>\n",
       "      <td>8374.0</td>\n",
       "    </tr>\n",
       "    <tr>\n",
       "      <th>3</th>\n",
       "      <td>Children</td>\n",
       "      <td>8418.0</td>\n",
       "      <td>3.366833</td>\n",
       "      <td>1139.0</td>\n",
       "    </tr>\n",
       "    <tr>\n",
       "      <th>10</th>\n",
       "      <td>Horror</td>\n",
       "      <td>7383.0</td>\n",
       "      <td>3.261344</td>\n",
       "      <td>2611.0</td>\n",
       "    </tr>\n",
       "  </tbody>\n",
       "</table>\n",
       "</div>"
      ],
      "text/plain": [
       "          genre  num_ratings    rating  total_movies\n",
       "9     Film-Noir       1037.0  4.016393         330.0\n",
       "17          War       5192.0  3.799307        1194.0\n",
       "6   Documentary       1231.0  3.759139        2471.0\n",
       "13      Mystery       7695.0  3.669591        1514.0\n",
       "7         Drama      43172.0  3.667435       13344.0\n",
       "5         Crime      16222.0  3.665608        2939.0\n",
       "11         IMAX       2438.0  3.662633         196.0\n",
       "2     Animation       5654.0  3.560842        1027.0\n",
       "12      Musical       4299.0  3.534543        1036.0\n",
       "14      Romance      18930.0  3.532805        4127.0\n",
       "16     Thriller      26560.0  3.509639        4178.0\n",
       "8       Fantasy      10706.0  3.492107        1412.0\n",
       "1     Adventure      22065.0  3.476456        2329.0\n",
       "18      Western       2349.0  3.475309         676.0\n",
       "0        Action      28497.0  3.429536        3520.0\n",
       "15       Sci-Fi      16155.0  3.411947        1743.0\n",
       "4        Comedy      38194.0  3.409200        8374.0\n",
       "3      Children       8418.0  3.366833        1139.0\n",
       "10       Horror       7383.0  3.261344        2611.0"
      ]
     },
     "execution_count": 22,
     "metadata": {},
     "output_type": "execute_result"
    }
   ],
   "source": [
    "# Aggregate data across of different unique ratings\n",
    "df = m.merge(r,right_index=1,left_index=1)[['title','genres','movieId_x']]\n",
    "df = df.rename(columns={'movieId_x': 'movieId'})\n",
    "\n",
    "genre_agg = pd.DataFrame()\n",
    "\n",
    "for genre in g:\n",
    "    df[genre] = df.genres.str.contains(genre)\n",
    "    \n",
    "for genre in g:\n",
    "    t1 = sum(m.genres.str.contains(genre))\n",
    "    t2 = r.merge(df[df[genre]])\n",
    "    d = {}\n",
    "    d['genre'] = genre\n",
    "    d['rating'] = t2.rating.mean()\n",
    "    d['num_ratings'] = len(t2.rating)\n",
    "    d['total_movies'] = t1\n",
    "    genre_agg = genre_agg.append(d, ignore_index=1)\n",
    "\n",
    "genre_agg.sort_values(by=['rating','num_ratings'], ascending=[0,0])"
   ]
  },
  {
   "cell_type": "code",
   "execution_count": 27,
   "metadata": {
    "collapsed": false
   },
   "outputs": [
    {
     "data": {
      "text/plain": [
       "<matplotlib.axes._subplots.AxesSubplot at 0x122493590>"
      ]
     },
     "execution_count": 27,
     "metadata": {},
     "output_type": "execute_result"
    },
    {
     "data": {
      "image/png": "[encoded data removed]",
      "text/plain": [
       "<matplotlib.figure.Figure at 0x1222a1210>"
      ]
     },
     "metadata": {},
     "output_type": "display_data"
    }
   ],
   "source": [
    "# Plot the most popular genres by rating\n",
    "genre_agg[['genre','rating']].set_index('genre').sort_values(by='rating',ascending=0).plot(kind='bar')"
   ]
  },
  {
   "cell_type": "code",
   "execution_count": 29,
   "metadata": {
    "collapsed": false
   },
   "outputs": [
    {
     "data": {
      "text/plain": [
       "<matplotlib.axes._subplots.AxesSubplot at 0x12288c650>"
      ]
     },
     "execution_count": 29,
     "metadata": {},
     "output_type": "execute_result"
    },
    {
     "data": {
      "image/png": "[encoded data removed]",
      "text/plain": [
       "<matplotlib.figure.Figure at 0x11446e090>"
      ]
     },
     "metadata": {},
     "output_type": "display_data"
    }
   ],
   "source": [
    "# Plot the most popular genres by film-maker\n",
    "genre_agg[['genre','total_movies']].set_index('genre').sort_values(by='total_movies',ascending=0).plot(kind='bar')"
   ]
  },
  {
   "cell_type": "code",
   "execution_count": null,
   "metadata": {
    "collapsed": true
   },
   "outputs": [],
   "source": []
  },
  {
   "cell_type": "code",
   "execution_count": null,
   "metadata": {
    "collapsed": true
   },
   "outputs": [],
   "source": []
  },
  {
   "cell_type": "code",
   "execution_count": null,
   "metadata": {
    "collapsed": true
   },
   "outputs": [],
   "source": []
  },
  {
   "cell_type": "code",
   "execution_count": null,
   "metadata": {
    "collapsed": true
   },
   "outputs": [],
   "source": []
  },
  {
   "cell_type": "code",
   "execution_count": null,
   "metadata": {
    "collapsed": true
   },
   "outputs": [],
   "source": []
  },
  {
   "cell_type": "code",
   "execution_count": null,
   "metadata": {
    "collapsed": true
   },
   "outputs": [],
   "source": []
  },
  {
   "cell_type": "code",
   "execution_count": null,
   "metadata": {
    "collapsed": true
   },
   "outputs": [],
   "source": []
  },
  {
   "cell_type": "code",
   "execution_count": null,
   "metadata": {
    "collapsed": true
   },
   "outputs": [],
   "source": []
  },
  {
   "cell_type": "code",
   "execution_count": null,
   "metadata": {
    "collapsed": true
   },
   "outputs": [],
   "source": []
  },
  {
   "cell_type": "code",
   "execution_count": null,
   "metadata": {
    "collapsed": true
   },
   "outputs": [],
   "source": []
  },
  {
   "cell_type": "code",
   "execution_count": null,
   "metadata": {
    "collapsed": true
   },
   "outputs": [],
   "source": []
  },
  {
   "cell_type": "code",
   "execution_count": null,
   "metadata": {
    "collapsed": true
   },
   "outputs": [],
   "source": []
  },
  {
   "cell_type": "code",
   "execution_count": null,
   "metadata": {
    "collapsed": true
   },
   "outputs": [],
   "source": []
  },
  {
   "cell_type": "code",
   "execution_count": null,
   "metadata": {
    "collapsed": true
   },
   "outputs": [],
   "source": []
  },
  {
   "cell_type": "code",
   "execution_count": null,
   "metadata": {
    "collapsed": true
   },
   "outputs": [],
   "source": []
  },
  {
   "cell_type": "code",
   "execution_count": null,
   "metadata": {
    "collapsed": true
   },
   "outputs": [],
   "source": []
  },
  {
   "cell_type": "code",
   "execution_count": null,
   "metadata": {
    "collapsed": true
   },
   "outputs": [],
   "source": []
  },
  {
   "cell_type": "code",
   "execution_count": null,
   "metadata": {
    "collapsed": true
   },
   "outputs": [],
   "source": []
  },
  {
   "cell_type": "code",
   "execution_count": null,
   "metadata": {
    "collapsed": true
   },
   "outputs": [],
   "source": []
  },
  {
   "cell_type": "code",
   "execution_count": null,
   "metadata": {
    "collapsed": true
   },
   "outputs": [],
   "source": []
  },
  {
   "cell_type": "code",
   "execution_count": null,
   "metadata": {
    "collapsed": true
   },
   "outputs": [],
   "source": []
  },
  {
   "cell_type": "code",
   "execution_count": null,
   "metadata": {
    "collapsed": true
   },
   "outputs": [],
   "source": []
  },
  {
   "cell_type": "code",
   "execution_count": null,
   "metadata": {
    "collapsed": true
   },
   "outputs": [],
   "source": []
  },
  {
   "cell_type": "code",
   "execution_count": null,
   "metadata": {
    "collapsed": true
   },
   "outputs": [],
   "source": []
  },
  {
   "cell_type": "code",
   "execution_count": null,
   "metadata": {
    "collapsed": true
   },
   "outputs": [],
   "source": []
  },
  {
   "cell_type": "code",
   "execution_count": null,
   "metadata": {
    "collapsed": true
   },
   "outputs": [],
   "source": []
  },
  {
   "cell_type": "code",
   "execution_count": null,
   "metadata": {
    "collapsed": true
   },
   "outputs": [],
   "source": []
  },
  {
   "cell_type": "code",
   "execution_count": null,
   "metadata": {
    "collapsed": true
   },
   "outputs": [],
   "source": []
  },
  {
   "cell_type": "code",
   "execution_count": null,
   "metadata": {
    "collapsed": true
   },
   "outputs": [],
   "source": []
  },
  {
   "cell_type": "code",
   "execution_count": null,
   "metadata": {
    "collapsed": true
   },
   "outputs": [],
   "source": []
  },
  {
   "cell_type": "code",
   "execution_count": null,
   "metadata": {
    "collapsed": true
   },
   "outputs": [],
   "source": []
  },
  {
   "cell_type": "code",
   "execution_count": null,
   "metadata": {
    "collapsed": true
   },
   "outputs": [],
   "source": []
  },
  {
   "cell_type": "code",
   "execution_count": null,
   "metadata": {
    "collapsed": true
   },
   "outputs": [],
   "source": []
  },
  {
   "cell_type": "code",
   "execution_count": null,
   "metadata": {
    "collapsed": true
   },
   "outputs": [],
   "source": []
  },
  {
   "cell_type": "code",
   "execution_count": null,
   "metadata": {
    "collapsed": true
   },
   "outputs": [],
   "source": []
  },
  {
   "cell_type": "code",
   "execution_count": null,
   "metadata": {
    "collapsed": true
   },
   "outputs": [],
   "source": []
  },
  {
   "cell_type": "code",
   "execution_count": null,
   "metadata": {
    "collapsed": true
   },
   "outputs": [],
   "source": []
  },
  {
   "cell_type": "code",
   "execution_count": null,
   "metadata": {
    "collapsed": true
   },
   "outputs": [],
   "source": []
  },
  {
   "cell_type": "code",
   "execution_count": null,
   "metadata": {
    "collapsed": true
   },
   "outputs": [],
   "source": []
  }
 ],
 "metadata": {
  "kernelspec": {
   "display_name": "Python 2",
   "language": "python",
   "name": "python2"
  },
  "language_info": {
   "codemirror_mode": {
    "name": "ipython",
    "version": 2
   },
   "file_extension": ".py",
   "mimetype": "text/x-python",
   "name": "python",
   "nbconvert_exporter": "python",
   "pygments_lexer": "ipython2",
   "version": "2.7.11"
  }
 },
 "nbformat": 4,
 "nbformat_minor": 0
}
